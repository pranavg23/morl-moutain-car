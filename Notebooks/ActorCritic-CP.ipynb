{
  "cells": [
    {
      "cell_type": "markdown",
      "metadata": {
        "id": "_jQ1tEQCxwRx"
      },
      "source": [
        "##### Copyright 2020 The TensorFlow Authors."
      ]
    },
    {
      "cell_type": "code",
      "execution_count": null,
      "metadata": {
        "cellView": "form",
        "id": "V_sgB_5dx1f1"
      },
      "outputs": [],
      "source": [
        "#@title Licensed under the Apache License, Version 2.0 (the \"License\");\n",
        "# you may not use this file except in compliance with the License.\n",
        "# You may obtain a copy of the License at\n",
        "#\n",
        "# https://www.apache.org/licenses/LICENSE-2.0\n",
        "#\n",
        "# Unless required by applicable law or agreed to in writing, software\n",
        "# distributed under the License is distributed on an \"AS IS\" BASIS,\n",
        "# WITHOUT WARRANTIES OR CONDITIONS OF ANY KIND, either express or implied.\n",
        "# See the License for the specific language governing permissions and\n",
        "# limitations under the License."
      ]
    },
    {
      "cell_type": "markdown",
      "metadata": {
        "id": "p62G8M_viUJp"
      },
      "source": [
        "# Playing CartPole with the Actor-Critic method\n"
      ]
    },
    {
      "cell_type": "markdown",
      "metadata": {
        "id": "-mJ2i6jvZ3sK"
      },
      "source": [
        "<table class=\"tfo-notebook-buttons\" align=\"left\">\n",
        "  <td>\n",
        "    <a target=\"_blank\" href=\"https://www.tensorflow.org/tutorials/reinforcement_learning/actor_critic\">\n",
        "    <img src=\"https://www.tensorflow.org/images/tf_logo_32px.png\" />\n",
        "    View on TensorFlow.org</a>\n",
        "  </td>\n",
        "  <td>\n",
        "    <a target=\"_blank\" href=\"https://colab.research.google.com/github/tensorflow/docs/blob/master/site/en/tutorials/reinforcement_learning/actor_critic.ipynb\">\n",
        "    <img src=\"https://www.tensorflow.org/images/colab_logo_32px.png\" />\n",
        "    Run in Google Colab</a>\n",
        "  </td>\n",
        "  <td>\n",
        "    <a target=\"_blank\" href=\"https://github.com/tensorflow/docs/blob/master/site/en/tutorials/reinforcement_learning/actor_critic.ipynb\">\n",
        "    <img src=\"https://www.tensorflow.org/images/GitHub-Mark-32px.png\" />\n",
        "    View source on GitHub</a>\n",
        "  </td>\n",
        "  <td>\n",
        "    <a href=\"https://storage.googleapis.com/tensorflow_docs/docs/site/en/tutorials/reinforcement_learning/actor_critic.ipynb\"><img src=\"https://www.tensorflow.org/images/download_logo_32px.png\" />Download notebook</a>\n",
        "  </td>\n",
        "</table>"
      ]
    },
    {
      "cell_type": "markdown",
      "metadata": {
        "id": "kFgN7h_wiUJq"
      },
      "source": [
        "This tutorial demonstrates how to implement the [Actor-Critic](https://papers.nips.cc/paper/1786-actor-critic-algorithms.pdf) method using TensorFlow to train an agent on the [Open AI Gym](https://www.gymlibrary.dev/) [`CartPole-v0`](https://www.gymlibrary.dev/environments/classic_control/cart_pole/) environment.\n",
        "The reader is assumed to have some familiarity with [policy gradient methods](https://papers.nips.cc/paper/1713-policy-gradient-methods-for-reinforcement-learning-with-function-approximation.pdf) of [(deep) reinforcement learning](https://en.wikipedia.org/wiki/Deep_reinforcement_learning).\n"
      ]
    },
    {
      "cell_type": "markdown",
      "metadata": {
        "id": "_kA10ZKRR0hi"
      },
      "source": [
        "**Actor-Critic methods**\n",
        "\n",
        "Actor-Critic methods are [temporal difference (TD) learning](https://en.wikipedia.org/wiki/Temporal_difference_learning) methods that represent the policy function independent of the value function.\n",
        "\n",
        "A policy function (or policy) returns a probability distribution over actions that the agent can take based on the given state.\n",
        "A value function determines the expected return for an agent starting at a given state and acting according to a particular policy forever after.\n",
        "\n",
        "In the Actor-Critic method, the policy is referred to as the *actor* that proposes a set of possible actions given a state, and the estimated value function is referred to as the *critic*, which evaluates actions taken by the *actor* based on the given policy.\n",
        "\n",
        "In this tutorial, both the *Actor* and *Critic* will be represented using one neural network with two outputs.\n"
      ]
    },
    {
      "cell_type": "markdown",
      "metadata": {
        "id": "rBfiafKSRs2k"
      },
      "source": [
        "**`CartPole-v0`**\n",
        "\n",
        "In the [`CartPole-v0` environment](https://www.gymlibrary.dev/environments/classic_control/cart_pole/), a pole is attached to a cart moving along a frictionless track.\n",
        "The pole starts upright and the goal of the agent is to prevent it from falling over by applying a force of `-1` or `+1` to the cart.\n",
        "A reward of `+1` is given for every time step the pole remains upright.\n",
        "An episode ends when: 1) the pole is more than 15 degrees from vertical; or 2) the cart moves more than 2.4 units from the center.\n",
        "\n",
        "<center>\n",
        "  <figure>\n",
        "    <image src=\"https://tensorflow.org/tutorials/reinforcement_learning/images/cartpole-v0.gif\">\n",
        "    <figcaption>\n",
        "      Trained actor-critic model in Cartpole-v0 environment\n",
        "    </figcaption>\n",
        "  </figure>\n",
        "</center>\n"
      ]
    },
    {
      "cell_type": "markdown",
      "metadata": {
        "id": "XSNVK0AeRoJd"
      },
      "source": [
        "The problem is considered \"solved\" when the average total reward for the episode reaches 195 over 100 consecutive trials."
      ]
    },
    {
      "cell_type": "markdown",
      "metadata": {
        "id": "glLwIctHiUJq"
      },
      "source": [
        "## Setup\n",
        "\n",
        "Import necessary packages and configure global settings.\n"
      ]
    },
    {
      "cell_type": "code",
      "execution_count": null,
      "metadata": {
        "id": "13l6BbxKhCKp",
        "outputId": "7b31432f-c163-44ce-cb3c-4afb02e18204",
        "colab": {
          "base_uri": "https://localhost:8080/"
        }
      },
      "outputs": [
        {
          "output_type": "stream",
          "name": "stdout",
          "text": [
            "Requirement already satisfied: gym[classic_control] in /usr/local/lib/python3.10/dist-packages (0.25.2)\n",
            "Requirement already satisfied: numpy>=1.18.0 in /usr/local/lib/python3.10/dist-packages (from gym[classic_control]) (1.23.5)\n",
            "Requirement already satisfied: cloudpickle>=1.2.0 in /usr/local/lib/python3.10/dist-packages (from gym[classic_control]) (2.2.1)\n",
            "Requirement already satisfied: gym-notices>=0.0.4 in /usr/local/lib/python3.10/dist-packages (from gym[classic_control]) (0.0.8)\n",
            "Collecting pygame==2.1.0 (from gym[classic_control])\n",
            "  Downloading pygame-2.1.0-cp310-cp310-manylinux_2_17_x86_64.manylinux2014_x86_64.whl (18.3 MB)\n",
            "\u001b[2K     \u001b[90m━━━━━━━━━━━━━━━━━━━━━━━━━━━━━━━━━━━━━━━━\u001b[0m \u001b[32m18.3/18.3 MB\u001b[0m \u001b[31m74.1 MB/s\u001b[0m eta \u001b[36m0:00:00\u001b[0m\n",
            "\u001b[?25hInstalling collected packages: pygame\n",
            "  Attempting uninstall: pygame\n",
            "    Found existing installation: pygame 2.5.2\n",
            "    Uninstalling pygame-2.5.2:\n",
            "      Successfully uninstalled pygame-2.5.2\n",
            "Successfully installed pygame-2.1.0\n",
            "Collecting pyglet\n",
            "  Downloading pyglet-2.0.10-py3-none-any.whl (858 kB)\n",
            "\u001b[2K     \u001b[90m━━━━━━━━━━━━━━━━━━━━━━━━━━━━━━━━━━━━━━━━\u001b[0m \u001b[32m858.3/858.3 kB\u001b[0m \u001b[31m6.1 MB/s\u001b[0m eta \u001b[36m0:00:00\u001b[0m\n",
            "\u001b[?25hInstalling collected packages: pyglet\n",
            "Successfully installed pyglet-2.0.10\n"
          ]
        }
      ],
      "source": [
        "!pip install gym[classic_control]\n",
        "!pip install pyglet"
      ]
    },
    {
      "cell_type": "code",
      "execution_count": null,
      "metadata": {
        "id": "WBeQhPi2S4m5"
      },
      "outputs": [],
      "source": [
        "%%bash\n",
        "# Install additional packages for visualization\n",
        "sudo apt-get install -y python-opengl > /dev/null 2>&1\n",
        "pip install git+https://github.com/tensorflow/docs > /dev/null 2>&1"
      ]
    },
    {
      "cell_type": "code",
      "execution_count": null,
      "metadata": {
        "id": "tT4N3qYviUJr",
        "outputId": "5fa959c1-ba8f-4036-b354-4a0077bffd64",
        "colab": {
          "base_uri": "https://localhost:8080/"
        }
      },
      "outputs": [
        {
          "output_type": "stream",
          "name": "stderr",
          "text": [
            "/usr/local/lib/python3.10/dist-packages/gym/core.py:317: DeprecationWarning: \u001b[33mWARN: Initializing wrapper in old step API which returns one bool instead of two. It is recommended to set `new_step_api=True` to use new step API. This will be the default behaviour in future.\u001b[0m\n",
            "  deprecation(\n",
            "/usr/local/lib/python3.10/dist-packages/gym/wrappers/step_api_compatibility.py:39: DeprecationWarning: \u001b[33mWARN: Initializing environment in old step API which returns one bool instead of two. It is recommended to set `new_step_api=True` to use new step API. This will be the default behaviour in future.\u001b[0m\n",
            "  deprecation(\n"
          ]
        }
      ],
      "source": [
        "import collections\n",
        "import gym\n",
        "import numpy as np\n",
        "import statistics\n",
        "import tensorflow as tf\n",
        "import tqdm\n",
        "\n",
        "from matplotlib import pyplot as plt\n",
        "from tensorflow.keras import layers\n",
        "from typing import Any, List, Sequence, Tuple\n",
        "\n",
        "\n",
        "# Create the environment\n",
        "# env = gym.make(\"CartPole-v1\")\n",
        "env = gym.make(\"MountainCarContinuous-v0\")\n",
        "\n",
        "# Set seed for experiment reproducibility\n",
        "seed = 42\n",
        "tf.random.set_seed(seed)\n",
        "np.random.seed(seed)\n",
        "\n",
        "# Small epsilon value for stabilizing division operations\n",
        "eps = np.finfo(np.float32).eps.item()"
      ]
    },
    {
      "cell_type": "markdown",
      "metadata": {
        "id": "AOUCe2D0iUJu"
      },
      "source": [
        "## The model\n",
        "\n",
        "The *Actor* and *Critic* will be modeled using one neural network that generates the action probabilities and Critic value respectively. This tutorial uses model subclassing to define the model.\n",
        "\n",
        "During the forward pass, the model will take in the state as the input and will output both action probabilities and critic value $V$, which models the state-dependent [value function](https://spinningup.openai.com/en/latest/spinningup/rl_intro.html#value-functions). The goal is to train a model that chooses actions based on a policy $\\pi$ that maximizes expected [return](https://spinningup.openai.com/en/latest/spinningup/rl_intro.html#reward-and-return).\n",
        "\n",
        "For `CartPole-v0`, there are four values representing the state: cart position, cart-velocity, pole angle and pole velocity respectively. The agent can take two actions to push the cart left (`0`) and right (`1`), respectively.\n",
        "\n",
        "Refer to [Gym's Cart Pole documentation page](https://www.gymlibrary.dev/environments/classic_control/cart_pole/) and [_Neuronlike adaptive elements that can solve difficult learning control problems_](http://www.derongliu.org/adp/adp-cdrom/Barto1983.pdf) by Barto, Sutton and Anderson (1983) for more information.\n"
      ]
    },
    {
      "cell_type": "code",
      "execution_count": null,
      "metadata": {
        "id": "aXKbbMC-kmuv"
      },
      "outputs": [],
      "source": [
        "class ActorCritic(tf.keras.Model):\n",
        "  \"\"\"Combined actor-critic network.\"\"\"\n",
        "\n",
        "  def __init__(\n",
        "      self,\n",
        "      num_actions: int,\n",
        "      num_hidden_units: int):\n",
        "    \"\"\"Initialize.\"\"\"\n",
        "    super().__init__()\n",
        "\n",
        "    self.common = layers.Dense(num_hidden_units, activation=\"relu\")\n",
        "    self.actor = layers.Dense(num_actions)\n",
        "    self.critic = layers.Dense(1)\n",
        "\n",
        "  def call(self, inputs: tf.Tensor) -> Tuple[tf.Tensor, tf.Tensor]:\n",
        "    x = self.common(inputs)\n",
        "    return self.actor(x), self.critic(x)"
      ]
    },
    {
      "cell_type": "code",
      "execution_count": null,
      "metadata": {
        "id": "nWyxJgjLn68c",
        "colab": {
          "base_uri": "https://localhost:8080/",
          "height": 381
        },
        "outputId": "be8c20ca-92c8-4037-a6d3-9295164c121b"
      },
      "outputs": [
        {
          "output_type": "error",
          "ename": "TypeError",
          "evalue": "ignored",
          "traceback": [
            "\u001b[0;31m---------------------------------------------------------------------------\u001b[0m",
            "\u001b[0;31mTypeError\u001b[0m                                 Traceback (most recent call last)",
            "\u001b[0;32m<ipython-input-46-9328fb2220a7>\u001b[0m in \u001b[0;36m<cell line: 4>\u001b[0;34m()\u001b[0m\n\u001b[1;32m      2\u001b[0m \u001b[0mnum_hidden_units\u001b[0m \u001b[0;34m=\u001b[0m \u001b[0;36m128\u001b[0m\u001b[0;34m\u001b[0m\u001b[0;34m\u001b[0m\u001b[0m\n\u001b[1;32m      3\u001b[0m \u001b[0;34m\u001b[0m\u001b[0m\n\u001b[0;32m----> 4\u001b[0;31m \u001b[0mmodel\u001b[0m \u001b[0;34m=\u001b[0m \u001b[0mActorCritic\u001b[0m\u001b[0;34m(\u001b[0m\u001b[0mnum_actions\u001b[0m\u001b[0;34m,\u001b[0m \u001b[0mnum_hidden_units\u001b[0m\u001b[0;34m)\u001b[0m\u001b[0;34m\u001b[0m\u001b[0;34m\u001b[0m\u001b[0m\n\u001b[0m",
            "\u001b[0;32m<ipython-input-44-5c80d2d2eda2>\u001b[0m in \u001b[0;36m__init__\u001b[0;34m(self, num_actions, num_hidden_units)\u001b[0m\n\u001b[1;32m     10\u001b[0m \u001b[0;34m\u001b[0m\u001b[0m\n\u001b[1;32m     11\u001b[0m     \u001b[0mself\u001b[0m\u001b[0;34m.\u001b[0m\u001b[0mcommon\u001b[0m \u001b[0;34m=\u001b[0m \u001b[0mlayers\u001b[0m\u001b[0;34m.\u001b[0m\u001b[0mDense\u001b[0m\u001b[0;34m(\u001b[0m\u001b[0mnum_hidden_units\u001b[0m\u001b[0;34m,\u001b[0m \u001b[0mactivation\u001b[0m\u001b[0;34m=\u001b[0m\u001b[0;34m\"relu\"\u001b[0m\u001b[0;34m)\u001b[0m\u001b[0;34m\u001b[0m\u001b[0;34m\u001b[0m\u001b[0m\n\u001b[0;32m---> 12\u001b[0;31m     \u001b[0mself\u001b[0m\u001b[0;34m.\u001b[0m\u001b[0mactor\u001b[0m \u001b[0;34m=\u001b[0m \u001b[0mlayers\u001b[0m\u001b[0;34m.\u001b[0m\u001b[0mDense\u001b[0m\u001b[0;34m(\u001b[0m\u001b[0mnum_actions\u001b[0m\u001b[0;34m)\u001b[0m\u001b[0;34m\u001b[0m\u001b[0;34m\u001b[0m\u001b[0m\n\u001b[0m\u001b[1;32m     13\u001b[0m     \u001b[0mself\u001b[0m\u001b[0;34m.\u001b[0m\u001b[0mcritic\u001b[0m \u001b[0;34m=\u001b[0m \u001b[0mlayers\u001b[0m\u001b[0;34m.\u001b[0m\u001b[0mDense\u001b[0m\u001b[0;34m(\u001b[0m\u001b[0;36m1\u001b[0m\u001b[0;34m)\u001b[0m\u001b[0;34m\u001b[0m\u001b[0;34m\u001b[0m\u001b[0m\n\u001b[1;32m     14\u001b[0m \u001b[0;34m\u001b[0m\u001b[0m\n",
            "\u001b[0;32m/usr/local/lib/python3.10/dist-packages/keras/src/dtensor/utils.py\u001b[0m in \u001b[0;36m_wrap_function\u001b[0;34m(layer_instance, *args, **kwargs)\u001b[0m\n\u001b[1;32m     94\u001b[0m                     \u001b[0mlayout_args\u001b[0m\u001b[0;34m[\u001b[0m\u001b[0mvariable_name\u001b[0m \u001b[0;34m+\u001b[0m \u001b[0;34m\"_layout\"\u001b[0m\u001b[0;34m]\u001b[0m \u001b[0;34m=\u001b[0m \u001b[0mlayout\u001b[0m\u001b[0;34m\u001b[0m\u001b[0;34m\u001b[0m\u001b[0m\n\u001b[1;32m     95\u001b[0m \u001b[0;34m\u001b[0m\u001b[0m\n\u001b[0;32m---> 96\u001b[0;31m         \u001b[0minit_method\u001b[0m\u001b[0;34m(\u001b[0m\u001b[0mlayer_instance\u001b[0m\u001b[0;34m,\u001b[0m \u001b[0;34m*\u001b[0m\u001b[0margs\u001b[0m\u001b[0;34m,\u001b[0m \u001b[0;34m**\u001b[0m\u001b[0mkwargs\u001b[0m\u001b[0;34m)\u001b[0m\u001b[0;34m\u001b[0m\u001b[0;34m\u001b[0m\u001b[0m\n\u001b[0m\u001b[1;32m     97\u001b[0m \u001b[0;34m\u001b[0m\u001b[0m\n\u001b[1;32m     98\u001b[0m         \u001b[0;31m# Inject the layout parameter after the invocation of __init__()\u001b[0m\u001b[0;34m\u001b[0m\u001b[0;34m\u001b[0m\u001b[0m\n",
            "\u001b[0;32m/usr/local/lib/python3.10/dist-packages/keras/src/layers/core/dense.py\u001b[0m in \u001b[0;36m__init__\u001b[0;34m(self, units, activation, use_bias, kernel_initializer, bias_initializer, kernel_regularizer, bias_regularizer, activity_regularizer, kernel_constraint, bias_constraint, **kwargs)\u001b[0m\n\u001b[1;32m    117\u001b[0m         \u001b[0msuper\u001b[0m\u001b[0;34m(\u001b[0m\u001b[0;34m)\u001b[0m\u001b[0;34m.\u001b[0m\u001b[0m__init__\u001b[0m\u001b[0;34m(\u001b[0m\u001b[0mactivity_regularizer\u001b[0m\u001b[0;34m=\u001b[0m\u001b[0mactivity_regularizer\u001b[0m\u001b[0;34m,\u001b[0m \u001b[0;34m**\u001b[0m\u001b[0mkwargs\u001b[0m\u001b[0;34m)\u001b[0m\u001b[0;34m\u001b[0m\u001b[0;34m\u001b[0m\u001b[0m\n\u001b[1;32m    118\u001b[0m \u001b[0;34m\u001b[0m\u001b[0m\n\u001b[0;32m--> 119\u001b[0;31m         \u001b[0mself\u001b[0m\u001b[0;34m.\u001b[0m\u001b[0munits\u001b[0m \u001b[0;34m=\u001b[0m \u001b[0mint\u001b[0m\u001b[0;34m(\u001b[0m\u001b[0munits\u001b[0m\u001b[0;34m)\u001b[0m \u001b[0;32mif\u001b[0m \u001b[0;32mnot\u001b[0m \u001b[0misinstance\u001b[0m\u001b[0;34m(\u001b[0m\u001b[0munits\u001b[0m\u001b[0;34m,\u001b[0m \u001b[0mint\u001b[0m\u001b[0;34m)\u001b[0m \u001b[0;32melse\u001b[0m \u001b[0munits\u001b[0m\u001b[0;34m\u001b[0m\u001b[0;34m\u001b[0m\u001b[0m\n\u001b[0m\u001b[1;32m    120\u001b[0m         \u001b[0;32mif\u001b[0m \u001b[0mself\u001b[0m\u001b[0;34m.\u001b[0m\u001b[0munits\u001b[0m \u001b[0;34m<\u001b[0m \u001b[0;36m0\u001b[0m\u001b[0;34m:\u001b[0m\u001b[0;34m\u001b[0m\u001b[0;34m\u001b[0m\u001b[0m\n\u001b[1;32m    121\u001b[0m             raise ValueError(\n",
            "\u001b[0;31mTypeError\u001b[0m: int() argument must be a string, a bytes-like object or a real number, not 'Box'"
          ]
        }
      ],
      "source": [
        "num_actions = env.action_space.n  #Issue here: because the action space is continuous\n",
        "num_hidden_units = 128\n",
        "\n",
        "model = ActorCritic(num_actions, num_hidden_units)"
      ]
    },
    {
      "cell_type": "markdown",
      "metadata": {
        "id": "hk92njFziUJw"
      },
      "source": [
        "## Train the agent\n",
        "\n",
        "To train the agent, you will follow these steps:\n",
        "\n",
        "1. Run the agent on the environment to collect training data per episode.\n",
        "2. Compute expected return at each time step.\n",
        "3. Compute the loss for the combined Actor-Critic model.\n",
        "4. Compute gradients and update network parameters.\n",
        "5. Repeat 1-4 until either success criterion or max episodes has been reached.\n"
      ]
    },
    {
      "cell_type": "markdown",
      "metadata": {
        "id": "R2nde2XDs8Gh"
      },
      "source": [
        "### 1. Collect training data\n",
        "\n",
        "As in supervised learning, in order to train the actor-critic model, you need\n",
        "to have training data. However, in order to collect such data, the model would\n",
        "need to be \"run\" in the environment.\n",
        "\n",
        "Training data is collected for each episode. Then at each time step, the model's forward pass will be run on the environment's state in order to generate action probabilities and the critic value based on the current policy parameterized by the model's weights.\n",
        "\n",
        "The next action will be sampled from the action probabilities generated by the model, which would then be applied to the environment, causing the next state and reward to be generated.\n",
        "\n",
        "This process is implemented in the `run_episode` function, which uses TensorFlow operations so that it can later be compiled into a TensorFlow graph for faster training. Note that `tf.TensorArray`s were used to support Tensor iteration on variable length arrays."
      ]
    },
    {
      "cell_type": "code",
      "execution_count": null,
      "metadata": {
        "id": "5URrbGlDSAGx"
      },
      "outputs": [],
      "source": [
        "# Wrap Gym's `env.step` call as an operation in a TensorFlow function.\n",
        "# This would allow it to be included in a callable TensorFlow graph.\n",
        "\n",
        "@tf.numpy_function(Tout=[tf.float32, tf.int32, tf.int32])\n",
        "def env_step(action: np.ndarray) -> Tuple[np.ndarray, np.ndarray, np.ndarray]:\n",
        "  \"\"\"Returns state, reward and done flag given an action.\"\"\"\n",
        "\n",
        "  state, reward, done, info = env.step(action)\n",
        "  return (state.astype(np.float32),\n",
        "          np.array(reward, np.int32),\n",
        "          np.array(done, np.int32))\n"
      ]
    },
    {
      "cell_type": "code",
      "execution_count": null,
      "metadata": {
        "id": "a4qVRV063Cl9"
      },
      "outputs": [],
      "source": [
        "def run_episode(\n",
        "    initial_state: tf.Tensor,\n",
        "    model: tf.keras.Model,\n",
        "    max_steps: int) -> Tuple[tf.Tensor, tf.Tensor, tf.Tensor]:\n",
        "  \"\"\"Runs a single episode to collect training data.\"\"\"\n",
        "\n",
        "  action_probs = tf.TensorArray(dtype=tf.float32, size=0, dynamic_size=True)\n",
        "  values = tf.TensorArray(dtype=tf.float32, size=0, dynamic_size=True)\n",
        "  rewards = tf.TensorArray(dtype=tf.int32, size=0, dynamic_size=True)\n",
        "\n",
        "  initial_state_shape = initial_state.shape\n",
        "  state = initial_state\n",
        "\n",
        "  for t in tf.range(max_steps):\n",
        "    # Convert state into a batched tensor (batch size = 1)\n",
        "    state = tf.expand_dims(state, 0)\n",
        "\n",
        "    # Run the model and to get action probabilities and critic value\n",
        "    action_logits_t, value = model(state)\n",
        "\n",
        "    # Sample next action from the action probability distribution\n",
        "    action = tf.random.categorical(action_logits_t, 1)[0, 0]\n",
        "    action_probs_t = tf.nn.softmax(action_logits_t)\n",
        "\n",
        "    # Store critic values\n",
        "    values = values.write(t, tf.squeeze(value))\n",
        "\n",
        "    # Store log probability of the action chosen\n",
        "    action_probs = action_probs.write(t, action_probs_t[0, action])\n",
        "\n",
        "    # Apply action to the environment to get next state and reward\n",
        "    state, reward, done = env_step(action)\n",
        "    state.set_shape(initial_state_shape)\n",
        "\n",
        "    # Store reward\n",
        "    rewards = rewards.write(t, reward)\n",
        "\n",
        "    if tf.cast(done, tf.bool):\n",
        "      break\n",
        "\n",
        "  action_probs = action_probs.stack()\n",
        "  values = values.stack()\n",
        "  rewards = rewards.stack()\n",
        "\n",
        "  return action_probs, values, rewards"
      ]
    },
    {
      "cell_type": "markdown",
      "metadata": {
        "id": "lBnIHdz22dIx"
      },
      "source": [
        "### 2. Compute the expected returns\n",
        "\n",
        "The sequence of rewards for each timestep $t$, $\\{r_{t}\\}^{T}_{t=1}$ collected during one episode is converted into a sequence of expected returns $\\{G_{t}\\}^{T}_{t=1}$ in which the sum of rewards is taken from the current timestep $t$ to $T$ and each reward is multiplied with an exponentially decaying discount factor $\\gamma$:\n",
        "\n",
        "$$G_{t} = \\sum^{T}_{t'=t} \\gamma^{t'-t}r_{t'}$$\n",
        "\n",
        "Since $\\gamma\\in(0,1)$, rewards further out from the current timestep are given less weight.\n",
        "\n",
        "Intuitively, expected return simply implies that rewards now are better than rewards later. In a mathematical sense, it is to ensure that the sum of the rewards converges.\n",
        "\n",
        "To stabilize training, the resulting sequence of returns is also standardized (i.e. to have zero mean and unit standard deviation).\n"
      ]
    },
    {
      "cell_type": "code",
      "execution_count": null,
      "metadata": {
        "id": "jpEwFyl315dl"
      },
      "outputs": [],
      "source": [
        "def get_expected_return(\n",
        "    rewards: tf.Tensor,\n",
        "    gamma: float,\n",
        "    standardize: bool = True) -> tf.Tensor:\n",
        "  \"\"\"Compute expected returns per timestep.\"\"\"\n",
        "\n",
        "  n = tf.shape(rewards)[0]\n",
        "  returns = tf.TensorArray(dtype=tf.float32, size=n)\n",
        "\n",
        "  # Start from the end of `rewards` and accumulate reward sums\n",
        "  # into the `returns` array\n",
        "  rewards = tf.cast(rewards[::-1], dtype=tf.float32)\n",
        "  discounted_sum = tf.constant(0.0)\n",
        "  discounted_sum_shape = discounted_sum.shape\n",
        "  for i in tf.range(n):\n",
        "    reward = rewards[i]\n",
        "    discounted_sum = reward + gamma * discounted_sum\n",
        "    discounted_sum.set_shape(discounted_sum_shape)\n",
        "    returns = returns.write(i, discounted_sum)\n",
        "  returns = returns.stack()[::-1]\n",
        "\n",
        "  if standardize:\n",
        "    returns = ((returns - tf.math.reduce_mean(returns)) /\n",
        "               (tf.math.reduce_std(returns) + eps))\n",
        "\n",
        "  return returns"
      ]
    },
    {
      "cell_type": "markdown",
      "metadata": {
        "id": "qhr50_Czxazw"
      },
      "source": [
        "### 3. The Actor-Critic loss\n",
        "\n",
        "Since you're using a hybrid Actor-Critic model, the chosen loss function is a combination of Actor and Critic losses for training, as shown below:\n",
        "\n",
        "$$L = L_{actor} + L_{critic}$$"
      ]
    },
    {
      "cell_type": "markdown",
      "metadata": {
        "id": "nOQIJuG1xdTH"
      },
      "source": [
        "#### The Actor loss\n",
        "\n",
        "The Actor loss is based on [policy gradients with the Critic as a state dependent baseline](https://www.youtube.com/watch?v=EKqxumCuAAY&t=62m23s) and computed with single-sample (per-episode) estimates.\n",
        "\n",
        "$$L_{actor} = -\\sum^{T}_{t=1} \\log\\pi_{\\theta}(a_{t} | s_{t})[G(s_{t}, a_{t})  - V^{\\pi}_{\\theta}(s_{t})]$$\n",
        "\n",
        "where:\n",
        "- $T$: the number of timesteps per episode, which can vary per episode\n",
        "- $s_{t}$: the state at timestep $t$\n",
        "- $a_{t}$: chosen action at timestep $t$ given state $s$\n",
        "- $\\pi_{\\theta}$: is the policy (Actor) parameterized by $\\theta$\n",
        "- $V^{\\pi}_{\\theta}$: is the value function (Critic) also parameterized by $\\theta$\n",
        "- $G = G_{t}$: the expected return for a given state, action pair at timestep $t$\n",
        "\n",
        "A negative term is added to the sum since the idea is to maximize the probabilities of actions yielding higher rewards by minimizing the combined loss.\n",
        "\n",
        "<br>"
      ]
    },
    {
      "cell_type": "markdown",
      "metadata": {
        "id": "Y304O4OAxiAv"
      },
      "source": [
        "##### The Advantage\n",
        "\n",
        "The $G - V$ term in our $L_{actor}$ formulation is called the [Advantage](https://spinningup.openai.com/en/latest/spinningup/rl_intro.html#advantage-functions), which indicates how much better an action is given a particular state over a random action selected according to the policy $\\pi$ for that state.\n",
        "\n",
        "While it's possible to exclude a baseline, this may result in high variance during training. And the nice thing about choosing the critic $V$ as a baseline is that it trained to be as close as possible to $G$, leading to a lower variance.\n",
        "\n",
        "In addition, without the Critic, the algorithm would try to increase probabilities for actions taken on a particular state based on expected return, which may not make much of a difference if the relative probabilities between actions remain the same.\n",
        "\n",
        "For instance, suppose that two actions for a given state would yield the same expected return. Without the Critic, the algorithm would try to raise the probability of these actions based on the objective $J$. With the Critic, it may turn out that there's no Advantage ($G - V = 0$), and thus no benefit gained in increasing the actions' probabilities and the algorithm would set the gradients to zero.\n",
        "\n",
        "<br>"
      ]
    },
    {
      "cell_type": "markdown",
      "metadata": {
        "id": "1hrPLrgGxlvb"
      },
      "source": [
        "#### The Critic loss\n",
        "\n",
        "Training $V$ to be as close possible to $G$ can be set up as a regression problem with the following loss function:\n",
        "\n",
        "$$L_{critic} = L_{\\delta}(G, V^{\\pi}_{\\theta})$$\n",
        "\n",
        "where $L_{\\delta}$ is the [Huber loss](https://en.wikipedia.org/wiki/Huber_loss), which is less sensitive to outliers in data than squared-error loss.\n"
      ]
    },
    {
      "cell_type": "code",
      "execution_count": null,
      "metadata": {
        "id": "9EXwbEez6n9m"
      },
      "outputs": [],
      "source": [
        "huber_loss = tf.keras.losses.Huber(reduction=tf.keras.losses.Reduction.SUM)\n",
        "\n",
        "def compute_loss(\n",
        "    action_probs: tf.Tensor,\n",
        "    values: tf.Tensor,\n",
        "    returns: tf.Tensor) -> tf.Tensor:\n",
        "  \"\"\"Computes the combined Actor-Critic loss.\"\"\"\n",
        "\n",
        "  advantage = returns - values\n",
        "\n",
        "  action_log_probs = tf.math.log(action_probs)\n",
        "  actor_loss = -tf.math.reduce_sum(action_log_probs * advantage)\n",
        "\n",
        "  critic_loss = huber_loss(values, returns)\n",
        "\n",
        "  return actor_loss + critic_loss"
      ]
    },
    {
      "cell_type": "markdown",
      "metadata": {
        "id": "HSYkQOmRfV75"
      },
      "source": [
        "### 4. Define the training step to update parameters\n",
        "\n",
        "All of the steps above are combined into a training step that is run every episode. All steps leading up to the loss function are executed with the `tf.GradientTape` context to enable automatic differentiation.\n",
        "\n",
        "This tutorial uses the Adam optimizer to apply the gradients to the model parameters.\n",
        "\n",
        "The sum of the undiscounted rewards, `episode_reward`, is also computed in this step. This value will be used later on to evaluate if the success criterion is met.\n",
        "\n",
        "The `tf.function` context is applied to the `train_step` function so that it can be compiled into a callable TensorFlow graph, which can lead to 10x speedup in training.\n"
      ]
    },
    {
      "cell_type": "code",
      "execution_count": null,
      "metadata": {
        "id": "QoccrkF3IFCg"
      },
      "outputs": [],
      "source": [
        "optimizer = tf.keras.optimizers.Adam(learning_rate=0.01)\n",
        "\n",
        "\n",
        "@tf.function\n",
        "def train_step(\n",
        "    initial_state: tf.Tensor,\n",
        "    model: tf.keras.Model,\n",
        "    optimizer: tf.keras.optimizers.Optimizer,\n",
        "    gamma: float,\n",
        "    max_steps_per_episode: int) -> tf.Tensor:\n",
        "  \"\"\"Runs a model training step.\"\"\"\n",
        "\n",
        "  with tf.GradientTape() as tape:\n",
        "\n",
        "    # Run the model for one episode to collect training data\n",
        "    action_probs, values, rewards = run_episode(\n",
        "        initial_state, model, max_steps_per_episode)\n",
        "\n",
        "    # Calculate the expected returns\n",
        "    returns = get_expected_return(rewards, gamma)\n",
        "\n",
        "    # Convert training data to appropriate TF tensor shapes\n",
        "    action_probs, values, returns = [\n",
        "        tf.expand_dims(x, 1) for x in [action_probs, values, returns]]\n",
        "\n",
        "    # Calculate the loss values to update our network\n",
        "    loss = compute_loss(action_probs, values, returns)\n",
        "\n",
        "  # Compute the gradients from the loss\n",
        "  grads = tape.gradient(loss, model.trainable_variables)\n",
        "\n",
        "  # Apply the gradients to the model's parameters\n",
        "  optimizer.apply_gradients(zip(grads, model.trainable_variables))\n",
        "\n",
        "  episode_reward = tf.math.reduce_sum(rewards)\n",
        "\n",
        "  return episode_reward"
      ]
    },
    {
      "cell_type": "markdown",
      "metadata": {
        "id": "HFvZiDoAflGK"
      },
      "source": [
        "### 5. Run the training loop\n",
        "\n",
        "Training is executed by running the training step until either the success criterion or maximum number of episodes is reached.  \n",
        "\n",
        "A running record of episode rewards is kept in a queue. Once 100 trials are reached, the oldest reward is removed at the left (tail) end of the queue and the newest one is added at the head (right). A running sum of the rewards is also maintained for computational efficiency.\n",
        "\n",
        "Depending on your runtime, training can finish in less than a minute."
      ]
    },
    {
      "cell_type": "code",
      "execution_count": null,
      "metadata": {
        "id": "kbmBxnzLiUJx",
        "colab": {
          "base_uri": "https://localhost:8080/"
        },
        "outputId": "1b941b41-80c4-45b0-c684-286933dceaca"
      },
      "outputs": [
        {
          "output_type": "stream",
          "name": "stderr",
          "text": [
            "  0%|          | 0/10000 [00:00<?, ?it/s]\n"
          ]
        },
        {
          "output_type": "stream",
          "name": "stdout",
          "text": [
            "What is happening   0%|          | 0/10000 [00:00<?, ?it/s]\n"
          ]
        },
        {
          "output_type": "stream",
          "name": "stderr",
          "text": [
            "\r  0%|          | 0/10000 [00:00<?, ?it/s]"
          ]
        },
        {
          "output_type": "stream",
          "name": "stdout",
          "text": [
            "[ 0.01731499 -0.00910528 -0.01614366 -0.0040178 ]\n"
          ]
        },
        {
          "output_type": "stream",
          "name": "stderr",
          "text": [
            "  0%|          | 11/10000 [00:01<16:01, 10.39it/s, episode_reward=17, running_reward=27.8]"
          ]
        },
        {
          "output_type": "stream",
          "name": "stdout",
          "text": [
            "[-0.03329241  0.04622146 -0.03369459  0.00779604]\n",
            "[ 0.02632358 -0.03160829  0.00097184 -0.01436494]\n",
            "[ 0.01834903 -0.01195293 -0.02018358  0.03606701]\n",
            "[-0.00362157  0.02626221 -0.01073329  0.03892604]\n",
            "[ 0.03157183  0.01419619 -0.03239796 -0.04421983]\n",
            "[ 0.01417085  0.01101423 -0.03193302  0.03276125]\n",
            "[-0.00095482 -0.04003815 -0.02369518 -0.0245642 ]\n",
            "[-0.02190696 -0.02818492  0.0352984  -0.01330053]\n",
            "[-0.04282223  0.04867394 -0.04105465 -0.03332869]\n",
            "[ 0.0243384   0.04115951 -0.01574316  0.01807069]\n",
            "[-0.02410092 -0.04147117  0.01450963  0.04968863]\n",
            "[ 0.03376954 -0.03041764 -0.01993389 -0.03118472]\n",
            "[0.00825189 0.00743335 0.04255029 0.03906902]\n",
            "[ 0.02346208 -0.04542428  0.0068163  -0.00602118]\n",
            "[ 0.03363177  0.01197374 -0.02755721 -0.03861456]\n",
            "[-0.01402167  0.04323539 -0.00395993  0.01490113]\n",
            "[ 0.04171494 -0.01684953  0.01084553 -0.04450584]\n",
            "[-0.03485988 -0.03789507  0.02861892  0.02033543]\n",
            "[0.01852015 0.04335772 0.04999031 0.02088129]\n",
            "[ 0.0014141  -0.02758148  0.02486622  0.04800888]\n",
            "[-0.02120835 -0.02177863  0.00670746 -0.03828   ]\n"
          ]
        },
        {
          "output_type": "stream",
          "name": "stderr",
          "text": [
            "  0%|          | 31/10000 [00:01<05:19, 31.21it/s, episode_reward=110, running_reward=36.8]"
          ]
        },
        {
          "output_type": "stream",
          "name": "stdout",
          "text": [
            "[ 0.04801838  0.00577672  0.02486748 -0.0316807 ]\n",
            "[-0.03807716  0.03818323 -0.0416358   0.04081907]\n",
            "[ 0.01927994  0.04211643 -0.00229454 -0.03118088]\n",
            "[0.0390695  0.01319037 0.02886792 0.01215601]\n",
            "[ 0.04172534 -0.00379496  0.02816159 -0.03374848]\n",
            "[-0.00643743 -0.03912475 -0.03920984  0.04758435]\n",
            "[-0.00269617 -0.02826879  0.02196355  0.03441881]\n",
            "[-0.04403012  0.00256329 -0.03831277 -0.03783533]\n",
            "[ 0.00227307 -0.02861522 -0.03659356 -0.03089014]\n",
            "[ 0.02098723  0.01753541  0.01485854 -0.04458155]\n",
            "[-0.04615245 -0.04711253  0.03326804  0.00028334]\n",
            "[ 0.01516856 -0.00210552 -0.01602523  0.04582196]\n",
            "[-0.03205184 -0.0077838   0.01602023 -0.04018941]\n"
          ]
        },
        {
          "output_type": "stream",
          "name": "stderr",
          "text": [
            "  0%|          | 39/10000 [00:01<04:55, 33.69it/s, episode_reward=113, running_reward=52.6]"
          ]
        },
        {
          "output_type": "stream",
          "name": "stdout",
          "text": [
            "[-0.00511482 -0.02638902 -0.03636089 -0.04213394]\n",
            "[-0.03943119 -0.01708974 -0.03223981  0.03523665]\n",
            "[-0.02731703 -0.03180997 -0.01475575 -0.00892891]\n",
            "[-0.04642737  0.0297925  -0.0074642   0.04472339]\n",
            "[ 0.04881385 -0.00999418  0.03092845  0.04914486]\n",
            "[ 0.00115626 -0.03407838 -0.01952896 -0.00089275]\n",
            "[-0.04067795  0.04779413 -0.03056037  0.04211748]\n",
            "[-0.03154941 -0.01235885  0.03336044 -0.03750138]\n"
          ]
        },
        {
          "output_type": "stream",
          "name": "stderr",
          "text": [
            "  0%|          | 46/10000 [00:02<05:06, 32.48it/s, episode_reward=74, running_reward=61.7]"
          ]
        },
        {
          "output_type": "stream",
          "name": "stdout",
          "text": [
            "[0.01017297 0.03550585 0.02686278 0.02313385]\n",
            "[-0.03269595 -0.00108428 -0.00616098  0.04381804]\n",
            "[-0.04794078 -0.00227435 -0.02973043  0.02835223]\n",
            "[ 0.02916855  0.00549382 -0.01753631 -0.03349019]\n",
            "[ 0.02888038 -0.03109661 -0.0173467   0.02005876]\n",
            "[-0.03322647 -0.01147313  0.01389321 -0.03720365]\n",
            "[-0.01944952  0.02110389  0.03545003  0.00298644]\n",
            "[-0.02633548  0.03993513 -0.00788489 -0.01037573]\n",
            "[ 0.03799468  0.01002582 -0.02684726 -0.0267009 ]\n"
          ]
        },
        {
          "output_type": "stream",
          "name": "stderr",
          "text": [
            "  1%|          | 57/10000 [00:02<04:47, 34.59it/s, episode_reward=136, running_reward=67.5]"
          ]
        },
        {
          "output_type": "stream",
          "name": "stdout",
          "text": [
            "[ 0.03352012 -0.04721094  0.00171708  0.00350185]\n",
            "[-0.01343402 -0.02883659 -0.00168322 -0.04975433]\n",
            "[-0.04794144 -0.04341986  0.00869562 -0.03214781]\n",
            "[ 0.04246048 -0.00147051 -0.04496868 -0.0006974 ]\n",
            "[-0.03423019 -0.04718184 -0.00691045  0.00884909]\n",
            "[-0.01293094  0.03365988 -0.02411314 -0.04998419]\n",
            "[-0.00422711 -0.00098743 -0.02559577 -0.01786029]\n"
          ]
        },
        {
          "output_type": "stream",
          "name": "stderr",
          "text": [
            "  1%|          | 62/10000 [00:02<05:06, 32.45it/s, episode_reward=196, running_reward=74.8]"
          ]
        },
        {
          "output_type": "stream",
          "name": "stdout",
          "text": [
            "[-0.01241821  0.00629073 -0.04913566 -0.01037418]\n",
            "[0.02487992 0.04856549 0.00839994 0.03764111]\n",
            "[-0.00720461 -0.03095006  0.00556893  0.01392827]\n",
            "[ 0.03644438 -0.0264386   0.02058925 -0.00319043]\n",
            "[-0.02192706  0.01096965 -0.04581589 -0.0415862 ]\n"
          ]
        },
        {
          "output_type": "stream",
          "name": "stderr",
          "text": [
            "  1%|          | 66/10000 [00:02<06:22, 26.00it/s, episode_reward=86, running_reward=85.3] "
          ]
        },
        {
          "output_type": "stream",
          "name": "stdout",
          "text": [
            "[ 0.03128952  0.04655439 -0.01246897 -0.00054021]\n",
            "[ 0.03517541 -0.0320238   0.04117799 -0.01760744]\n",
            "[-0.00358151 -0.04652995 -0.04235061  0.04419657]\n",
            "[0.01164066 0.00427497 0.00410371 0.03729667]\n"
          ]
        },
        {
          "output_type": "stream",
          "name": "stderr",
          "text": [
            "  1%|          | 70/10000 [00:02<06:36, 25.07it/s, episode_reward=442, running_reward=89.7]"
          ]
        },
        {
          "output_type": "stream",
          "name": "stdout",
          "text": [
            "[-0.04333391  0.02773079  0.01620092  0.03793223]\n",
            "[ 0.04652953 -0.04784911  0.00628823  0.02077429]\n",
            "[-0.03408718  0.04133778 -0.01022467  0.04648043]\n"
          ]
        },
        {
          "output_type": "stream",
          "name": "stderr",
          "text": [
            "  1%|          | 73/10000 [00:03<07:11, 22.99it/s, episode_reward=112, running_reward=96.9]"
          ]
        },
        {
          "output_type": "stream",
          "name": "stdout",
          "text": [
            "[ 0.02878671  0.03469732  0.02473302 -0.03080835]\n",
            "[-0.00319084  0.04784485 -0.0020668   0.02953879]\n",
            "[ 0.02264415 -0.03883937 -0.01390445  0.03299226]\n",
            "[-0.03045542 -0.01004114 -0.04636713 -0.03313571]\n",
            "[0.0370196  0.03847727 0.0356777  0.0117645 ]\n",
            "[ 0.00805577 -0.01950811  0.01274912  0.03312464]\n"
          ]
        },
        {
          "output_type": "stream",
          "name": "stderr",
          "text": [
            "  1%|          | 80/10000 [00:03<06:42, 24.67it/s, episode_reward=123, running_reward=100] "
          ]
        },
        {
          "output_type": "stream",
          "name": "stdout",
          "text": [
            "[ 0.04316585 -0.02583632 -0.00314579 -0.02219885]\n",
            "[-0.02453873 -0.00895029  0.00062108  0.00564615]\n",
            "[-0.01194527  0.04542127  0.01794771  0.0135158 ]\n",
            "[-0.03896648 -0.04238119 -0.00997025  0.01766981]\n",
            "[0.03915185 0.01103514 0.03115673 0.04607468]\n",
            "[-0.04805683  0.04351756 -0.04859406 -0.03443173]\n",
            "[-0.01138128  0.01730558  0.03591804  0.03087109]\n"
          ]
        },
        {
          "output_type": "stream",
          "name": "stderr",
          "text": [
            "  1%|          | 90/10000 [00:03<04:51, 34.01it/s, episode_reward=69, running_reward=96.7]"
          ]
        },
        {
          "output_type": "stream",
          "name": "stdout",
          "text": [
            "[-0.02293337  0.00894774  0.01344049  0.03252075]\n",
            "[-0.01167359 -0.01822675  0.03668803 -0.01400242]\n",
            "[0.03113587 0.02099296 0.00937066 0.02479814]\n",
            "[0.00127084 0.04237071 0.0092457  0.01695604]\n",
            "[ 0.01412802  0.01762147  0.03983167 -0.02497414]\n",
            "[-0.0428785  -0.00655517  0.0112266  -0.04971523]\n",
            "[-0.03742242  0.02315085  0.02703186 -0.03051998]\n",
            "[-0.01888884  0.01355185 -0.01783598  0.00995088]\n",
            "[-0.03235694  0.04095742  0.04480831  0.02168934]\n",
            "[-0.04383585 -0.01818432  0.03852509  0.02434212]\n"
          ]
        },
        {
          "output_type": "stream",
          "name": "stderr",
          "text": [
            "  1%|          | 99/10000 [00:03<04:48, 34.30it/s, episode_reward=137, running_reward=98.2]"
          ]
        },
        {
          "output_type": "stream",
          "name": "stdout",
          "text": [
            "[-0.00522368 -0.02880506 -0.02894132 -0.01394591]\n",
            "[-0.04132266 -0.0250407  -0.00069847  0.00369529]\n",
            "[-0.04028104  0.04057321 -0.00440459 -0.02707212]\n",
            "[ 0.03917957 -0.02697925  0.03389622 -0.02104781]\n",
            "[-0.02740792  0.04802203 -0.00967869  0.01043369]\n",
            "[ 0.03861285 -0.01872069  0.03148105  0.02827435]\n"
          ]
        },
        {
          "output_type": "stream",
          "name": "stderr",
          "text": [
            "  1%|          | 103/10000 [00:04<06:03, 27.23it/s, episode_reward=211, running_reward=106]"
          ]
        },
        {
          "output_type": "stream",
          "name": "stdout",
          "text": [
            "[-0.04800676 -0.01078209  0.04598238  0.01702997]\n",
            "[ 0.01404366 -0.0097404  -0.01030023  0.02716151]\n",
            "[ 0.04170889 -0.01173647 -0.00848772  0.00382404]\n",
            "[-0.03752256  0.03659523 -0.00766919 -0.03338574]\n"
          ]
        },
        {
          "output_type": "stream",
          "name": "stderr",
          "text": [
            "  1%|          | 103/10000 [00:04<06:03, 27.23it/s, episode_reward=436, running_reward=117]"
          ]
        },
        {
          "output_type": "stream",
          "name": "stdout",
          "text": [
            "[-0.02356311 -0.0472828  -0.03923357  0.01826161]\n",
            "[-0.0178099   0.00465325 -0.04851445  0.03878307]\n",
            "[ 0.03552222 -0.03560735  0.04456618  0.03817194]\n"
          ]
        },
        {
          "output_type": "stream",
          "name": "stderr",
          "text": [
            "  1%|          | 107/10000 [00:04<09:10, 17.96it/s, episode_reward=500, running_reward=127]"
          ]
        },
        {
          "output_type": "stream",
          "name": "stdout",
          "text": [
            "[-0.02851941 -0.01816097  0.04212693 -0.01895809]\n",
            "[ 0.02478906 -0.04765948  0.01986496  0.04278184]\n"
          ]
        },
        {
          "output_type": "stream",
          "name": "stderr",
          "text": [
            "  1%|          | 110/10000 [00:04<11:27, 14.38it/s, episode_reward=185, running_reward=138]"
          ]
        },
        {
          "output_type": "stream",
          "name": "stdout",
          "text": [
            "[ 0.00365443 -0.02149086 -0.01947681  0.00166517]\n",
            "[-0.04919475 -0.01282969 -0.029566    0.0126625 ]\n",
            "[-0.03788734 -0.01733016  0.0046686   0.01516557]\n"
          ]
        },
        {
          "output_type": "stream",
          "name": "stderr",
          "text": [
            "  1%|          | 112/10000 [00:05<11:34, 14.23it/s, episode_reward=500, running_reward=148]"
          ]
        },
        {
          "output_type": "stream",
          "name": "stdout",
          "text": [
            "[ 0.00927416 -0.0017133   0.00392948 -0.00596068]\n",
            "[ 0.04368094  0.02621812 -0.02921595 -0.04289014]\n"
          ]
        },
        {
          "output_type": "stream",
          "name": "stderr",
          "text": [
            "  1%|          | 114/10000 [00:05<12:54, 12.76it/s, episode_reward=500, running_reward=157]"
          ]
        },
        {
          "output_type": "stream",
          "name": "stdout",
          "text": [
            "[-0.03731063 -0.02219101  0.00306168 -0.03388857]\n",
            "[-0.02762579 -0.00544703 -0.02573531 -0.02462281]\n"
          ]
        },
        {
          "output_type": "stream",
          "name": "stderr",
          "text": [
            "  1%|          | 118/10000 [00:05<13:06, 12.56it/s, episode_reward=24, running_reward=166]"
          ]
        },
        {
          "output_type": "stream",
          "name": "stdout",
          "text": [
            "[-0.04961377  0.00322793 -0.02786333  0.02775103]\n",
            "[ 0.03903197 -0.02385676  0.02011035 -0.00942012]\n",
            "[ 0.03527119  0.00985578 -0.01589877  0.02608024]\n"
          ]
        },
        {
          "output_type": "stream",
          "name": "stderr",
          "text": [
            "  1%|▏         | 126/10000 [00:05<07:54, 20.80it/s, episode_reward=19, running_reward=171]"
          ]
        },
        {
          "output_type": "stream",
          "name": "stdout",
          "text": [
            "[-0.04068629 -0.0204599   0.0147954   0.02485565]\n",
            "[ 0.03455575 -0.00630807  0.0049038   0.0468381 ]\n",
            "[ 0.02937072  0.04391327  0.04032681 -0.02788998]\n",
            "[ 0.01245035 -0.0013139  -0.03106928 -0.03993378]\n",
            "[-0.02118609  0.01776719 -0.00501502  0.02806965]\n",
            "[ 0.03265758  0.0077251  -0.00669186 -0.04602101]\n",
            "[-0.02018977  0.00882598  0.02412581 -0.0209175 ]\n",
            "[ 0.02955571 -0.047638    0.0476827  -0.04989819]\n",
            "[0.0234148  0.04845166 0.04970724 0.01751294]\n",
            "[-0.01110926  0.02111856  0.01887554  0.01238225]\n",
            "[ 0.04915275 -0.01587877  0.02150606  0.04160268]\n",
            "[-0.02364141  0.01672705  0.00654652  0.04142189]\n",
            "[0.02898137 0.01252115 0.00978378 0.01080739]\n"
          ]
        },
        {
          "output_type": "stream",
          "name": "stderr",
          "text": [
            "  1%|▏         | 133/10000 [00:06<05:19, 30.88it/s, episode_reward=500, running_reward=173]"
          ]
        },
        {
          "output_type": "stream",
          "name": "stdout",
          "text": [
            "[-0.01768542 -0.04555731  0.03145074  0.01107461]\n",
            "[ 0.03733575 -0.00736803 -0.00347894  0.03729052]\n",
            "[-0.01124192  0.00185108 -0.03334077  0.00379296]\n",
            "[-0.03497094 -0.04583697 -0.00960159  0.0156491 ]\n",
            "[ 0.02306989  0.00190031 -0.01156619  0.00030803]\n"
          ]
        },
        {
          "output_type": "stream",
          "name": "stderr",
          "text": [
            "  1%|▏         | 137/10000 [00:06<06:46, 24.24it/s, episode_reward=500, running_reward=182]"
          ]
        },
        {
          "output_type": "stream",
          "name": "stdout",
          "text": [
            "[ 0.00975801 -0.00397139  0.02468571  0.00235401]\n",
            "[ 0.0324154  -0.00140232  0.04725862  0.02819427]\n"
          ]
        },
        {
          "output_type": "stream",
          "name": "stderr",
          "text": [
            "  1%|▏         | 137/10000 [00:06<06:46, 24.24it/s, episode_reward=500, running_reward=189]"
          ]
        },
        {
          "output_type": "stream",
          "name": "stdout",
          "text": [
            "[-0.00642181  0.00517039 -0.04196912  0.01420791]\n",
            "[-0.04859713 -0.00887535 -0.01126632 -0.0232987 ]\n"
          ]
        },
        {
          "output_type": "stream",
          "name": "stderr",
          "text": [
            "  1%|▏         | 141/10000 [00:06<10:59, 14.95it/s, episode_reward=500, running_reward=194]"
          ]
        },
        {
          "output_type": "stream",
          "name": "stdout",
          "text": [
            "[-0.01843731  0.04402222 -0.04818624  0.0334234 ]\n",
            "[ 0.00722697  0.04632026 -0.00733719 -0.03534808]\n",
            "[ 0.01175863 -0.01290555 -0.01700083  0.01801035]\n"
          ]
        },
        {
          "output_type": "stream",
          "name": "stderr",
          "text": [
            "  1%|▏         | 144/10000 [00:07<11:48, 13.90it/s, episode_reward=500, running_reward=202]"
          ]
        },
        {
          "output_type": "stream",
          "name": "stdout",
          "text": [
            "[ 0.04385617  0.02872219 -0.00299126  0.00429726]\n",
            "[ 0.0424975   0.03364437  0.04822784 -0.00238533]\n"
          ]
        },
        {
          "output_type": "stream",
          "name": "stderr",
          "text": [
            "  1%|▏         | 147/10000 [00:07<13:54, 11.80it/s, episode_reward=500, running_reward=211]"
          ]
        },
        {
          "output_type": "stream",
          "name": "stdout",
          "text": [
            "[ 0.02260092  0.04347938 -0.01563866  0.03271446]\n",
            "[-0.00181893 -0.01150838  0.04740505 -0.01122616]\n"
          ]
        },
        {
          "output_type": "stream",
          "name": "stderr",
          "text": [
            "  1%|▏         | 149/10000 [00:07<15:07, 10.85it/s, episode_reward=500, running_reward=219]"
          ]
        },
        {
          "output_type": "stream",
          "name": "stdout",
          "text": [
            "[-0.04312896 -0.03890582  0.01043166  0.04966149]\n",
            "[0.0219032  0.0160061  0.04313301 0.02825403]\n"
          ]
        },
        {
          "output_type": "stream",
          "name": "stderr",
          "text": [
            "  2%|▏         | 151/10000 [00:07<16:30,  9.94it/s, episode_reward=500, running_reward=227]"
          ]
        },
        {
          "output_type": "stream",
          "name": "stdout",
          "text": [
            "[ 0.04151947 -0.01707374 -0.01530999  0.01272807]\n",
            "[ 0.00960626  0.01933619 -0.04426214  0.00556028]\n"
          ]
        },
        {
          "output_type": "stream",
          "name": "stderr",
          "text": [
            "  2%|▏         | 153/10000 [00:08<17:32,  9.36it/s, episode_reward=79, running_reward=235] "
          ]
        },
        {
          "output_type": "stream",
          "name": "stdout",
          "text": [
            "[-0.03421294 -0.02665425  0.02046061 -0.04590714]\n",
            "[ 0.03578309  0.00436458 -0.03100866 -0.00962166]\n",
            "[ 0.03185849 -0.00851256  0.0235749  -0.03382333]\n",
            "[-0.04229864  0.01432847 -0.02040462 -0.0033871 ]\n"
          ]
        },
        {
          "output_type": "stream",
          "name": "stderr",
          "text": [
            "  2%|▏         | 158/10000 [00:08<14:47, 11.09it/s, episode_reward=500, running_reward=243]"
          ]
        },
        {
          "output_type": "stream",
          "name": "stdout",
          "text": [
            "[ 0.04797558  0.02805782  0.01115874 -0.03194876]\n",
            "[-0.0055714  -0.02936621  0.03543408 -0.00710764]\n",
            "[0.02729938 0.00946612 0.01718786 0.02430965]\n"
          ]
        },
        {
          "output_type": "stream",
          "name": "stderr",
          "text": [
            "  2%|▏         | 160/10000 [00:08<14:18, 11.47it/s, episode_reward=500, running_reward=250]"
          ]
        },
        {
          "output_type": "stream",
          "name": "stdout",
          "text": [
            "[-0.01823745 -0.00647103 -0.02696733  0.00861064]\n",
            "[-0.02296305 -0.00083475  0.01669066  0.02344172]\n",
            "[ 0.0443217   0.02734602  0.03357087 -0.03858522]\n"
          ]
        },
        {
          "output_type": "stream",
          "name": "stderr",
          "text": [
            "  2%|▏         | 164/10000 [00:09<14:27, 11.34it/s, episode_reward=32, running_reward=248]"
          ]
        },
        {
          "output_type": "stream",
          "name": "stdout",
          "text": [
            "[-0.02720556 -0.03699767  0.00581406 -0.04212102]\n",
            "[-0.02927682  0.00742818 -0.02358653  0.02167253]\n",
            "[-0.03114784 -0.0003613   0.04375753 -0.04781823]\n",
            "[-0.00513481  0.03266793 -0.01989472  0.00982285]\n",
            "[ 0.0329482   0.04275495 -0.01108056  0.00465269]\n",
            "[-0.01062342 -0.00558511 -0.02360314 -0.00742619]\n"
          ]
        },
        {
          "output_type": "stream",
          "name": "stderr",
          "text": [
            "  2%|▏         | 172/10000 [00:09<08:36, 19.03it/s, episode_reward=133, running_reward=242]"
          ]
        },
        {
          "output_type": "stream",
          "name": "stdout",
          "text": [
            "[ 0.04458844  0.02379922 -0.00271477  0.0408446 ]\n",
            "[-0.04509528  0.0216346  -0.00907877  0.01847981]\n",
            "[-0.02455794  0.02225381  0.0269498  -0.0030201 ]\n",
            "[-0.03161291 -0.04057557  0.02559333  0.03355047]\n",
            "[-0.01770351 -0.04791113 -0.01308753 -0.02504878]\n",
            "[0.00141264 0.04953744 0.01882081 0.02411599]\n",
            "[-0.03277315  0.00098215  0.04663057  0.01363876]\n"
          ]
        },
        {
          "output_type": "stream",
          "name": "stderr",
          "text": [
            "  2%|▏         | 175/10000 [00:09<08:51, 18.49it/s, episode_reward=461, running_reward=248]"
          ]
        },
        {
          "output_type": "stream",
          "name": "stdout",
          "text": [
            "[ 0.02626967  0.02553065 -0.00823788 -0.02494206]\n",
            "[ 0.0220616   0.03683156 -0.04809833  0.04969078]\n",
            "[ 0.00884832 -0.02673504  0.03388143 -0.04768896]\n"
          ]
        },
        {
          "output_type": "stream",
          "name": "stderr",
          "text": [
            "  2%|▏         | 178/10000 [00:09<10:23, 15.74it/s, episode_reward=500, running_reward=255]"
          ]
        },
        {
          "output_type": "stream",
          "name": "stdout",
          "text": [
            "[-0.02012618  0.00700929 -0.02110465  0.04013065]\n",
            "[-0.00136323 -0.02302855  0.03143471 -0.01720472]\n"
          ]
        },
        {
          "output_type": "stream",
          "name": "stderr",
          "text": [
            "  2%|▏         | 180/10000 [00:10<12:09, 13.46it/s, episode_reward=500, running_reward=263]"
          ]
        },
        {
          "output_type": "stream",
          "name": "stdout",
          "text": [
            "[0.00545739 0.02714523 0.01825651 0.03238488]\n",
            "[0.02361882 0.01062384 0.03253649 0.04327832]\n"
          ]
        },
        {
          "output_type": "stream",
          "name": "stderr",
          "text": [
            "  2%|▏         | 182/10000 [00:10<13:31, 12.10it/s, episode_reward=500, running_reward=270]"
          ]
        },
        {
          "output_type": "stream",
          "name": "stdout",
          "text": [
            "[ 0.00285248 -0.02085008 -0.02044431  0.00164435]\n",
            "[ 0.0324752  -0.04166171  0.00988579 -0.04500704]\n"
          ]
        },
        {
          "output_type": "stream",
          "name": "stderr",
          "text": [
            "  2%|▏         | 184/10000 [00:10<14:52, 10.99it/s, episode_reward=500, running_reward=279]"
          ]
        },
        {
          "output_type": "stream",
          "name": "stdout",
          "text": [
            "[ 0.00099417  0.01083222 -0.03694475  0.0340733 ]\n",
            "[ 0.04021514 -0.01984527 -0.04039829  0.03606996]\n"
          ]
        },
        {
          "output_type": "stream",
          "name": "stderr",
          "text": [
            "  2%|▏         | 186/10000 [00:10<16:05, 10.17it/s, episode_reward=500, running_reward=289]"
          ]
        },
        {
          "output_type": "stream",
          "name": "stdout",
          "text": [
            "[ 0.04268909 -0.0052047  -0.03139101 -0.03736261]\n",
            "[-0.0076894   0.01053568  0.03275687 -0.02497344]\n"
          ]
        },
        {
          "output_type": "stream",
          "name": "stderr",
          "text": [
            "  2%|▏         | 188/10000 [00:11<17:08,  9.54it/s, episode_reward=500, running_reward=297]"
          ]
        },
        {
          "output_type": "stream",
          "name": "stdout",
          "text": [
            "[ 0.03867824  0.04093977  0.01453816 -0.03003252]\n",
            "[ 0.04641495 -0.02543812 -0.03274624 -0.0038062 ]\n"
          ]
        },
        {
          "output_type": "stream",
          "name": "stderr",
          "text": [
            "  2%|▏         | 191/10000 [00:11<17:46,  9.19it/s, episode_reward=500, running_reward=305]"
          ]
        },
        {
          "output_type": "stream",
          "name": "stdout",
          "text": [
            "[-0.03544412  0.01782845  0.02889111 -0.01582607]\n",
            "[ 0.04942479 -0.02237998 -0.02244614 -0.03856268]\n"
          ]
        },
        {
          "output_type": "stream",
          "name": "stderr",
          "text": [
            "  2%|▏         | 193/10000 [00:11<18:17,  8.94it/s, episode_reward=500, running_reward=313]"
          ]
        },
        {
          "output_type": "stream",
          "name": "stdout",
          "text": [
            "[ 0.01284394 -0.04135387 -0.02720633  0.04626321]\n",
            "[-0.02282476 -0.04190816  0.00039559  0.02675476]\n"
          ]
        },
        {
          "output_type": "stream",
          "name": "stderr",
          "text": [
            "  2%|▏         | 195/10000 [00:11<18:50,  8.67it/s, episode_reward=500, running_reward=321]"
          ]
        },
        {
          "output_type": "stream",
          "name": "stdout",
          "text": [
            "[-0.03765696  0.00435137  0.00145109 -0.02278417]\n",
            "[ 0.03799611 -0.00476007  0.03726634  0.02430923]\n"
          ]
        },
        {
          "output_type": "stream",
          "name": "stderr",
          "text": [
            "  2%|▏         | 197/10000 [00:11<19:29,  8.38it/s, episode_reward=500, running_reward=329]"
          ]
        },
        {
          "output_type": "stream",
          "name": "stdout",
          "text": [
            "[ 0.00580897  0.00601733  0.01527019 -0.01992825]\n",
            "[-0.02521609 -0.02782523 -0.03541118  0.0161613 ]\n"
          ]
        },
        {
          "output_type": "stream",
          "name": "stderr",
          "text": [
            "  2%|▏         | 199/10000 [00:12<18:55,  8.63it/s, episode_reward=500, running_reward=336]"
          ]
        },
        {
          "output_type": "stream",
          "name": "stdout",
          "text": [
            "[-0.00561241  0.01555991  0.04311961  0.01083361]\n",
            "[ 0.01950721  0.04044076 -0.02419855 -0.02001655]\n"
          ]
        },
        {
          "output_type": "stream",
          "name": "stderr",
          "text": [
            "  2%|▏         | 201/10000 [00:12<19:02,  8.58it/s, episode_reward=256, running_reward=341]"
          ]
        },
        {
          "output_type": "stream",
          "name": "stdout",
          "text": [
            "[-0.00654131  0.01517958 -0.03699484 -0.02022461]\n",
            "[ 0.01771392 -0.02292929  0.01521942  0.04692287]\n",
            "[-0.03927839  0.02988688 -0.01773508  0.04978206]\n"
          ]
        },
        {
          "output_type": "stream",
          "name": "stderr",
          "text": [
            "  2%|▏         | 204/10000 [00:12<17:29,  9.34it/s, episode_reward=118, running_reward=342]"
          ]
        },
        {
          "output_type": "stream",
          "name": "stdout",
          "text": [
            "[ 0.04915668  0.03836571  0.04482217 -0.01797259]\n",
            "[-0.02573252  0.00416137 -0.035967   -0.03382917]\n",
            "[-0.03423459  0.01335179 -0.008226    0.03426851]\n"
          ]
        },
        {
          "output_type": "stream",
          "name": "stderr",
          "text": [
            "  2%|▏         | 208/10000 [00:13<15:42, 10.39it/s, episode_reward=338, running_reward=341]"
          ]
        },
        {
          "output_type": "stream",
          "name": "stdout",
          "text": [
            "[-0.04544445  0.03743291 -0.04022982 -0.01523168]\n",
            "[-0.01496903  0.03120229  0.04506934 -0.01103067]\n",
            "[-0.04229409  0.00355896 -0.04758776 -0.04908849]\n"
          ]
        },
        {
          "output_type": "stream",
          "name": "stderr",
          "text": [
            "  2%|▏         | 210/10000 [00:13<16:27,  9.91it/s, episode_reward=500, running_reward=341]"
          ]
        },
        {
          "output_type": "stream",
          "name": "stdout",
          "text": [
            "[ 0.02870356  0.01687288  0.01291718 -0.01127966]\n",
            "[-0.04609292 -0.02826294 -0.01221309 -0.0368794 ]\n"
          ]
        },
        {
          "output_type": "stream",
          "name": "stderr",
          "text": [
            "  2%|▏         | 212/10000 [00:13<17:30,  9.32it/s, episode_reward=500, running_reward=344]"
          ]
        },
        {
          "output_type": "stream",
          "name": "stdout",
          "text": [
            "[ 0.01343841 -0.01851897 -0.00207426 -0.0141971 ]\n",
            "[-0.03785016  0.04729007  0.02553749  0.01106853]\n"
          ]
        },
        {
          "output_type": "stream",
          "name": "stderr",
          "text": [
            "  2%|▏         | 214/10000 [00:13<18:20,  8.90it/s, episode_reward=500, running_reward=344]"
          ]
        },
        {
          "output_type": "stream",
          "name": "stdout",
          "text": [
            "[-0.00436171 -0.03774843  0.03432014  0.0011506 ]\n",
            "[-0.01234124  0.02387378 -0.04189863 -0.04968126]\n"
          ]
        },
        {
          "output_type": "stream",
          "name": "stderr",
          "text": [
            "  2%|▏         | 216/10000 [00:13<18:40,  8.73it/s, episode_reward=500, running_reward=345]"
          ]
        },
        {
          "output_type": "stream",
          "name": "stdout",
          "text": [
            "[-0.02294412 -0.01126783 -0.03950585  0.02558461]\n",
            "[ 0.01331872  0.03630217  0.02017349 -0.03690594]\n"
          ]
        },
        {
          "output_type": "stream",
          "name": "stderr",
          "text": [
            "  2%|▏         | 218/10000 [00:14<18:50,  8.65it/s, episode_reward=500, running_reward=350]"
          ]
        },
        {
          "output_type": "stream",
          "name": "stdout",
          "text": [
            "[ 0.04044637  0.00496349 -0.01333234 -0.02411461]\n",
            "[-0.01694021  0.02081005  0.0225652   0.04900613]\n"
          ]
        },
        {
          "output_type": "stream",
          "name": "stderr",
          "text": [
            "  2%|▏         | 220/10000 [00:14<19:40,  8.29it/s, episode_reward=500, running_reward=355]"
          ]
        },
        {
          "output_type": "stream",
          "name": "stdout",
          "text": [
            "[-0.00810197 -0.04052942 -0.03035069 -0.01415343]\n",
            "[ 0.01760883  0.02903136 -0.04430988  0.04324735]\n"
          ]
        },
        {
          "output_type": "stream",
          "name": "stderr",
          "text": [
            "  2%|▏         | 222/10000 [00:14<19:23,  8.41it/s, episode_reward=500, running_reward=364]"
          ]
        },
        {
          "output_type": "stream",
          "name": "stdout",
          "text": [
            "[ 0.04099737  0.01514739 -0.02199751 -0.03856611]\n",
            "[ 0.04734053  0.00179218 -0.02656643  0.01979642]\n"
          ]
        },
        {
          "output_type": "stream",
          "name": "stderr",
          "text": [
            "  2%|▏         | 224/10000 [00:14<18:56,  8.60it/s, episode_reward=500, running_reward=372]"
          ]
        },
        {
          "output_type": "stream",
          "name": "stdout",
          "text": [
            "[ 0.035753    0.0098492   0.02036481 -0.04584902]\n",
            "[-0.02180584  0.00297207  0.03704913  0.02057066]\n"
          ]
        },
        {
          "output_type": "stream",
          "name": "stderr",
          "text": [
            "  2%|▏         | 225/10000 [00:15<19:06,  8.53it/s, episode_reward=500, running_reward=380]"
          ]
        },
        {
          "output_type": "stream",
          "name": "stdout",
          "text": [
            "[ 0.03556377 -0.04955633 -0.03473656  0.02823171]\n",
            "[-0.03034181  0.00603161 -0.03421229 -0.01206459]\n"
          ]
        },
        {
          "output_type": "stream",
          "name": "stderr",
          "text": [
            "  2%|▏         | 228/10000 [00:15<18:32,  8.78it/s, episode_reward=500, running_reward=390]"
          ]
        },
        {
          "output_type": "stream",
          "name": "stdout",
          "text": [
            "[0.04861228 0.00765895 0.04746974 0.00104588]\n",
            "[-0.03972594  0.03998679 -0.01562868 -0.0126096 ]\n"
          ]
        },
        {
          "output_type": "stream",
          "name": "stderr",
          "text": [
            "  2%|▏         | 230/10000 [00:15<18:44,  8.69it/s, episode_reward=500, running_reward=399]"
          ]
        },
        {
          "output_type": "stream",
          "name": "stdout",
          "text": [
            "[-0.00836384 -0.0227954   0.04978289  0.0208062 ]\n",
            "[-0.002179   -0.04341801  0.04450478  0.01088016]\n"
          ]
        },
        {
          "output_type": "stream",
          "name": "stderr",
          "text": [
            "  2%|▏         | 232/10000 [00:15<18:46,  8.67it/s, episode_reward=500, running_reward=409]"
          ]
        },
        {
          "output_type": "stream",
          "name": "stdout",
          "text": [
            "[ 0.0499787  -0.01649434  0.01720353 -0.04725359]\n",
            "[ 0.01223646 -0.04518566 -0.03413324 -0.01946182]\n"
          ]
        },
        {
          "output_type": "stream",
          "name": "stderr",
          "text": [
            "  2%|▏         | 234/10000 [00:16<18:37,  8.74it/s, episode_reward=500, running_reward=418]"
          ]
        },
        {
          "output_type": "stream",
          "name": "stdout",
          "text": [
            "[ 0.03969917  0.0368611  -0.01011718  0.02764234]\n",
            "[-0.00408759 -0.01759004 -0.0325372  -0.00013994]\n"
          ]
        },
        {
          "output_type": "stream",
          "name": "stderr",
          "text": [
            "  2%|▏         | 237/10000 [00:16<17:16,  9.42it/s, episode_reward=447, running_reward=421]"
          ]
        },
        {
          "output_type": "stream",
          "name": "stdout",
          "text": [
            "[ 0.00254165 -0.04905077  0.03604086 -0.03511826]\n",
            "[-0.01135837  0.01452423 -0.01745933 -0.02397952]\n",
            "[-0.00837559  0.02871603 -0.00686924 -0.00327514]\n"
          ]
        },
        {
          "output_type": "stream",
          "name": "stderr",
          "text": [
            "  2%|▏         | 241/10000 [00:16<13:58, 11.64it/s, episode_reward=419, running_reward=413]"
          ]
        },
        {
          "output_type": "stream",
          "name": "stdout",
          "text": [
            "[-0.03965592  0.0258471   0.00567831 -0.00187685]\n",
            "[-0.04470389 -0.04231775 -0.04124553 -0.03881412]\n",
            "[-0.04826364  0.04383616  0.03784266 -0.01786884]\n",
            "[ 0.00139021 -0.04013222 -0.0264197  -0.04608036]\n"
          ]
        },
        {
          "output_type": "stream",
          "name": "stderr",
          "text": [
            "  2%|▏         | 243/10000 [00:16<15:51, 10.25it/s, episode_reward=500, running_reward=418]"
          ]
        },
        {
          "output_type": "stream",
          "name": "stdout",
          "text": [
            "[ 0.04077563  0.02733926  0.03776852 -0.00226974]\n",
            "[-0.00984882 -0.04503999  0.03239733  0.02268769]\n"
          ]
        },
        {
          "output_type": "stream",
          "name": "stderr",
          "text": [
            "  2%|▏         | 245/10000 [00:17<16:29,  9.85it/s, episode_reward=279, running_reward=415]"
          ]
        },
        {
          "output_type": "stream",
          "name": "stdout",
          "text": [
            "[ 0.01347989 -0.03283918 -0.04389076  0.02499014]\n",
            "[-0.04585024  0.04399597 -0.00257331  0.0081209 ]\n",
            "[0.03083559 0.03547925 0.04365085 0.01832243]\n"
          ]
        },
        {
          "output_type": "stream",
          "name": "stderr",
          "text": [
            "  3%|▎         | 252/10000 [00:17<08:57, 18.14it/s, episode_reward=86, running_reward=382]"
          ]
        },
        {
          "output_type": "stream",
          "name": "stdout",
          "text": [
            "[ 0.02098616 -0.04406444  0.01862083 -0.02687277]\n",
            "[-0.03348676 -0.04530707 -0.03123293 -0.02190557]\n",
            "[-0.0317488   0.00999318 -0.02589944 -0.03052934]\n",
            "[ 0.00696831 -0.02292943 -0.00950644  0.02707562]\n",
            "[ 0.03172064 -0.04179168  0.03813756  0.03701985]\n",
            "[ 0.03616092  0.03130746  0.03375677 -0.03999225]\n",
            "[ 0.01571359 -0.01062687  0.02847908 -0.02929495]\n",
            "[0.00376852 0.02947004 0.02514759 0.02425053]\n",
            "[-0.03602747 -0.03467042  0.01954968  0.02433351]\n",
            "[ 0.02764496  0.01796871 -0.00821285  0.03264284]\n"
          ]
        },
        {
          "output_type": "stream",
          "name": "stderr",
          "text": [
            "  3%|▎         | 271/10000 [00:17<03:12, 50.47it/s, episode_reward=30, running_reward=339]"
          ]
        },
        {
          "output_type": "stream",
          "name": "stdout",
          "text": [
            "[-0.04672183  0.02735501  0.00553759  0.0494223 ]\n",
            "[ 0.02872459  0.04679959 -0.04833641 -0.0149281 ]\n",
            "[-0.01339733 -0.02795123  0.00260029 -0.01997575]\n",
            "[ 0.02213407  0.02699531  0.03951921 -0.0361361 ]\n",
            "[-0.04943877  0.03865673 -0.01923608  0.0419572 ]\n",
            "[ 0.02678181  0.02026975 -0.00716352  0.0079349 ]\n",
            "[-0.03564588 -0.01859821  0.04255914  0.0269616 ]\n",
            "[0.00048368 0.0009473  0.01214534 0.00871203]\n",
            "[-0.02552105  0.03619787  0.02137727  0.01484139]\n",
            "[-0.04470012 -0.03451427  0.01423923 -0.03687026]\n",
            "[-0.04805296  0.00188151 -0.02501381  0.02869019]\n",
            "[-0.00077592 -0.00420223 -0.03041221 -0.00459508]\n",
            "[ 0.04541586  0.00845605  0.00630396 -0.04900892]\n",
            "[-0.00420463  0.02749045  0.00092882 -0.03099475]\n",
            "[-0.00554977  0.00436589  0.00235017 -0.02027625]\n",
            "[ 0.01328712 -0.01163057  0.0163553  -0.03280526]\n",
            "[-0.04659962  0.03456929 -0.03853739  0.02587771]\n",
            "[-0.02944408 -0.03161319  0.04061181 -0.02428286]\n",
            "[-0.00898878  0.04668458  0.02874388 -0.00697819]\n",
            "[ 0.01846017 -0.04662072  0.03770636  0.0229598 ]\n",
            "[ 0.02606796  0.01443319 -0.01087758  0.00446834]\n"
          ]
        },
        {
          "output_type": "stream",
          "name": "stderr",
          "text": [
            "  3%|▎         | 286/10000 [00:17<03:13, 50.27it/s, episode_reward=92, running_reward=301]"
          ]
        },
        {
          "output_type": "stream",
          "name": "stdout",
          "text": [
            "[-0.04313835  0.03740681 -0.0251533  -0.0059234 ]\n",
            "[ 0.03879006 -0.02475405  0.00363253  0.02730277]\n",
            "[ 0.01237762 -0.01357691 -0.02120732  0.03999858]\n",
            "[-0.02141141 -0.01058643 -0.02592732  0.0264275 ]\n",
            "[-0.01018434  0.00514968 -0.04874601  0.02257814]\n",
            "[ 0.00050509 -0.01289589 -0.00022784 -0.03887237]\n",
            "[ 0.03838065  0.04793007  0.02717445 -0.02698368]\n",
            "[-0.03121346  0.01342419 -0.03209715 -0.00583393]\n",
            "[-0.00197617  0.01036272 -0.03601141  0.02309493]\n"
          ]
        },
        {
          "output_type": "stream",
          "name": "stderr",
          "text": [
            "  3%|▎         | 292/10000 [00:18<03:36, 44.88it/s, episode_reward=142, running_reward=274]"
          ]
        },
        {
          "output_type": "stream",
          "name": "stdout",
          "text": [
            "[-0.0294846 -0.0178555  0.0417051  0.0473869]\n",
            "[ 0.0376033  -0.03793933 -0.02784587 -0.00479382]\n",
            "[ 0.02895945  0.01808729 -0.01136433 -0.01591122]\n",
            "[-0.00607309  0.04346514  0.02941854 -0.00956757]\n",
            "[-0.01326227  0.01365037 -0.02139756 -0.03542173]\n",
            "[ 0.04548749  0.00886965 -0.03241402 -0.01635536]\n",
            "[ 0.04830421  0.02351339  0.03255979 -0.01704986]\n"
          ]
        },
        {
          "output_type": "stream",
          "name": "stderr",
          "text": [
            "  3%|▎         | 297/10000 [00:18<04:11, 38.52it/s, episode_reward=158, running_reward=252]"
          ]
        },
        {
          "output_type": "stream",
          "name": "stdout",
          "text": [
            "[ 0.02930915 -0.0385813   0.02182796  0.02976977]\n",
            "[-0.02383231 -0.02801421 -0.00783922  0.02643027]\n",
            "[ 0.02373513 -0.02197683  0.03271862  0.01874487]\n",
            "[ 0.01910891 -0.02227026  0.04801352 -0.04348715]\n",
            "[ 0.01872168  0.04007852 -0.03427913 -0.04839047]\n",
            "[ 0.02622663 -0.04888004  0.01375259  0.02819999]\n"
          ]
        },
        {
          "output_type": "stream",
          "name": "stderr",
          "text": [
            "  3%|▎         | 302/10000 [00:18<04:54, 32.95it/s, episode_reward=203, running_reward=239]"
          ]
        },
        {
          "output_type": "stream",
          "name": "stdout",
          "text": [
            "[ 0.00531932 -0.03753107 -0.00307804  0.01403531]\n",
            "[ 0.0289111  -0.00986541 -0.02807066 -0.04240945]\n",
            "[ 0.028482   -0.03788121 -0.03927461 -0.01550949]\n",
            "[-0.01130581 -0.04327851  0.01843175 -0.02686285]\n",
            "[ 0.04083897 -0.03950134  0.00968053 -0.00606996]\n"
          ]
        },
        {
          "output_type": "stream",
          "name": "stderr",
          "text": [
            "  3%|▎         | 306/10000 [00:18<05:41, 28.40it/s, episode_reward=257, running_reward=234]"
          ]
        },
        {
          "output_type": "stream",
          "name": "stdout",
          "text": [
            "[-0.04841626  0.0472506   0.04834199 -0.00047971]\n",
            "[ 0.02059038 -0.00509242  0.04128358  0.00783294]\n",
            "[ 0.01490512  0.00626667  0.04947552 -0.03295964]\n",
            "[0.03440026 0.02778304 0.03661429 0.04854272]\n"
          ]
        },
        {
          "output_type": "stream",
          "name": "stderr",
          "text": [
            "  3%|▎         | 310/10000 [00:18<06:51, 23.55it/s, episode_reward=263, running_reward=227]"
          ]
        },
        {
          "output_type": "stream",
          "name": "stdout",
          "text": [
            "[0.00723965 0.02511548 0.03009927 0.04268742]\n",
            "[ 0.00062527 -0.04667891  0.01406151  0.01737772]\n",
            "[-0.04207744 -0.01211719 -0.02185592  0.01068443]\n"
          ]
        },
        {
          "output_type": "stream",
          "name": "stderr",
          "text": [
            "  3%|▎         | 313/10000 [00:19<07:52, 20.50it/s, episode_reward=246, running_reward=220]"
          ]
        },
        {
          "output_type": "stream",
          "name": "stdout",
          "text": [
            "[ 0.00580183 -0.01426398  0.01968024  0.01120614]\n",
            "[ 0.03406369 -0.04331734  0.02131186  0.02887743]\n",
            "[ 0.03527176  0.00574881 -0.0217563   0.01054079]\n"
          ]
        },
        {
          "output_type": "stream",
          "name": "stderr",
          "text": [
            "  3%|▎         | 316/10000 [00:19<08:41, 18.55it/s, episode_reward=256, running_reward=210]"
          ]
        },
        {
          "output_type": "stream",
          "name": "stdout",
          "text": [
            "[-0.03033557 -0.02958008 -0.04399216 -0.02270867]\n",
            "[-0.0221608   0.00703802 -0.0014144   0.02578294]\n",
            "[ 0.00217824 -0.02876739  0.04434769 -0.0118729 ]\n",
            "[-0.04338479 -0.02316551  0.03317709  0.01448287]\n"
          ]
        },
        {
          "output_type": "stream",
          "name": "stderr",
          "text": [
            "  3%|▎         | 321/10000 [00:19<09:25, 17.12it/s, episode_reward=268, running_reward=200]"
          ]
        },
        {
          "output_type": "stream",
          "name": "stdout",
          "text": [
            "[-0.038248   -0.02023182  0.03563699 -0.00843651]\n",
            "[-0.00406618  0.00566709 -0.0326446  -0.02609051]\n",
            "[-0.03127182 -0.03348672 -0.04010208  0.01581773]\n",
            "[-0.0245894  -0.00326324  0.04197853 -0.00039347]\n"
          ]
        },
        {
          "output_type": "stream",
          "name": "stderr",
          "text": [
            "  3%|▎         | 325/10000 [00:20<10:49, 14.89it/s, episode_reward=332, running_reward=194]"
          ]
        },
        {
          "output_type": "stream",
          "name": "stdout",
          "text": [
            "[ 0.02007104  0.00591342 -0.00181568  0.0371977 ]\n",
            "[-0.03648691  0.02333921  0.00109286  0.00078128]\n",
            "[-0.01856638  0.01164923 -0.00452604 -0.0147989 ]\n"
          ]
        },
        {
          "output_type": "stream",
          "name": "stderr",
          "text": [
            "  3%|▎         | 327/10000 [00:20<12:00, 13.42it/s, episode_reward=404, running_reward=191]"
          ]
        },
        {
          "output_type": "stream",
          "name": "stdout",
          "text": [
            "[-0.0281471  -0.03810813 -0.03795933 -0.00407309]\n",
            "[-0.01830628 -0.01552998 -0.04356646 -0.00632625]\n",
            "[ 0.02614822 -0.00943334  0.01088738  0.01604198]\n"
          ]
        },
        {
          "output_type": "stream",
          "name": "stderr",
          "text": [
            "  3%|▎         | 329/10000 [00:20<13:55, 11.57it/s, episode_reward=488, running_reward=190]"
          ]
        },
        {
          "output_type": "stream",
          "name": "stdout",
          "text": [
            "[-0.02721732 -0.02896721 -0.03032673 -0.02203271]\n",
            "[ 0.03329268  0.03787145 -0.04789991  0.03536897]\n"
          ]
        },
        {
          "output_type": "stream",
          "name": "stderr",
          "text": [
            "  3%|▎         | 331/10000 [00:20<15:31, 10.38it/s, episode_reward=488, running_reward=190]"
          ]
        },
        {
          "output_type": "stream",
          "name": "stdout",
          "text": [
            "[ 0.02639843 -0.00290015 -0.03357904  0.02456668]\n",
            "[ 0.03280589  0.0352951   0.04377711 -0.04910848]\n"
          ]
        },
        {
          "output_type": "stream",
          "name": "stderr",
          "text": [
            "  3%|▎         | 333/10000 [00:21<16:48,  9.59it/s, episode_reward=500, running_reward=190]"
          ]
        },
        {
          "output_type": "stream",
          "name": "stdout",
          "text": [
            "[-0.02264919 -0.04761591  0.00493541 -0.0426263 ]\n",
            "[-0.04212741 -0.01529559 -0.04283441 -0.0040529 ]\n"
          ]
        },
        {
          "output_type": "stream",
          "name": "stderr",
          "text": [
            "  3%|▎         | 336/10000 [00:21<18:34,  8.68it/s, episode_reward=500, running_reward=192]"
          ]
        },
        {
          "output_type": "stream",
          "name": "stdout",
          "text": [
            "[ 0.04609945 -0.01026802  0.01214364 -0.03085388]\n",
            "[ 0.00970426 -0.03955593 -0.00138295  0.01112196]\n"
          ]
        },
        {
          "output_type": "stream",
          "name": "stderr",
          "text": [
            "  3%|▎         | 338/10000 [00:21<19:40,  8.18it/s, episode_reward=500, running_reward=193]"
          ]
        },
        {
          "output_type": "stream",
          "name": "stdout",
          "text": [
            "[-0.00280074 -0.0485598   0.00650563  0.01313272]\n",
            "[-0.00503659  0.04289559 -0.02568483  0.04616807]\n"
          ]
        },
        {
          "output_type": "stream",
          "name": "stderr",
          "text": [
            "  3%|▎         | 340/10000 [00:21<19:28,  8.26it/s, episode_reward=500, running_reward=199]"
          ]
        },
        {
          "output_type": "stream",
          "name": "stdout",
          "text": [
            "[-0.02174656  0.03053751  0.02406055  0.03733182]\n",
            "[-0.03323515 -0.02207511 -0.0249453   0.04408765]\n"
          ]
        },
        {
          "output_type": "stream",
          "name": "stderr",
          "text": [
            "  3%|▎         | 342/10000 [00:22<18:51,  8.54it/s, episode_reward=500, running_reward=200]"
          ]
        },
        {
          "output_type": "stream",
          "name": "stdout",
          "text": [
            "[ 0.01959134 -0.01517685  0.02049648  0.00380491]\n",
            "[ 0.04947753 -0.00315241  0.02317731 -0.0073893 ]\n"
          ]
        },
        {
          "output_type": "stream",
          "name": "stderr",
          "text": [
            "  3%|▎         | 344/10000 [00:22<18:32,  8.68it/s, episode_reward=500, running_reward=200]"
          ]
        },
        {
          "output_type": "stream",
          "name": "stdout",
          "text": [
            "[ 0.0295222   0.02543004  0.02901779 -0.02630739]\n",
            "[ 0.02999621  0.04085256  0.00884229 -0.02855097]\n"
          ]
        },
        {
          "output_type": "stream",
          "name": "stderr",
          "text": [
            "  3%|▎         | 346/10000 [00:22<18:52,  8.53it/s, episode_reward=500, running_reward=203]"
          ]
        },
        {
          "output_type": "stream",
          "name": "stdout",
          "text": [
            "[ 0.01014509 -0.0362847   0.02899997  0.00886027]\n",
            "[-0.03540682  0.00556629 -0.01949618 -0.03730278]\n"
          ]
        },
        {
          "output_type": "stream",
          "name": "stderr",
          "text": [
            "  3%|▎         | 348/10000 [00:22<19:00,  8.46it/s, episode_reward=500, running_reward=208]"
          ]
        },
        {
          "output_type": "stream",
          "name": "stdout",
          "text": [
            "[ 0.04005563 -0.02942256 -0.02025865 -0.04285536]\n",
            "[-0.00237548 -0.03424656  0.03990498 -0.01724118]\n"
          ]
        },
        {
          "output_type": "stream",
          "name": "stderr",
          "text": [
            "  4%|▎         | 350/10000 [00:23<19:20,  8.32it/s, episode_reward=500, running_reward=216]"
          ]
        },
        {
          "output_type": "stream",
          "name": "stdout",
          "text": [
            "[ 0.02610456 -0.01414013  0.04163779  0.01073001]\n",
            "[-0.03424662 -0.04197614  0.03095785 -0.04940784]\n"
          ]
        },
        {
          "output_type": "stream",
          "name": "stderr",
          "text": [
            "  4%|▎         | 352/10000 [00:23<19:17,  8.34it/s, episode_reward=500, running_reward=225]"
          ]
        },
        {
          "output_type": "stream",
          "name": "stdout",
          "text": [
            "[-0.02562687  0.02211829  0.00143004 -0.04010362]\n",
            "[-0.03326713 -0.02640522 -0.04107577  0.01497412]\n"
          ]
        },
        {
          "output_type": "stream",
          "name": "stderr",
          "text": [
            "  4%|▎         | 354/10000 [00:23<19:09,  8.39it/s, episode_reward=500, running_reward=234]"
          ]
        },
        {
          "output_type": "stream",
          "name": "stdout",
          "text": [
            "[-0.03672994 -0.0485777   0.03200249  0.02609653]\n",
            "[-0.01347853  0.00676199  0.03985223 -0.01541103]\n"
          ]
        },
        {
          "output_type": "stream",
          "name": "stderr",
          "text": [
            "  4%|▎         | 356/10000 [00:23<18:57,  8.48it/s, episode_reward=500, running_reward=243]"
          ]
        },
        {
          "output_type": "stream",
          "name": "stdout",
          "text": [
            "[-0.03141012 -0.02426605 -0.00817446 -0.02642578]\n",
            "[ 0.03605371 -0.01817209  0.04065444 -0.00331454]\n"
          ]
        },
        {
          "output_type": "stream",
          "name": "stderr",
          "text": [
            "  4%|▎         | 358/10000 [00:23<19:16,  8.34it/s, episode_reward=500, running_reward=252]"
          ]
        },
        {
          "output_type": "stream",
          "name": "stdout",
          "text": [
            "[ 0.02026839 -0.03371797  0.04828176  0.03906421]\n",
            "[-0.03943733 -0.01187455 -0.03832635  0.03431915]\n"
          ]
        },
        {
          "output_type": "stream",
          "name": "stderr",
          "text": [
            "  4%|▎         | 359/10000 [00:24<19:20,  8.31it/s, episode_reward=500, running_reward=262]"
          ]
        },
        {
          "output_type": "stream",
          "name": "stdout",
          "text": [
            "[ 0.02911044  0.01921926 -0.012335    0.02816676]\n",
            "[ 0.02510443  0.02492575 -0.01296702  0.03168828]\n"
          ]
        },
        {
          "output_type": "stream",
          "name": "stderr",
          "text": [
            "  4%|▎         | 362/10000 [00:24<18:40,  8.60it/s, episode_reward=500, running_reward=272]"
          ]
        },
        {
          "output_type": "stream",
          "name": "stdout",
          "text": [
            "[-0.00073648 -0.02709205  0.01465544  0.0481242 ]\n",
            "[ 0.01023963 -0.04784417 -0.0128104   0.03401657]\n"
          ]
        },
        {
          "output_type": "stream",
          "name": "stderr",
          "text": [
            "  4%|▎         | 364/10000 [00:24<19:15,  8.34it/s, episode_reward=500, running_reward=281]"
          ]
        },
        {
          "output_type": "stream",
          "name": "stdout",
          "text": [
            "[-0.04480376 -0.01034574  0.03712585 -0.0344943 ]\n",
            "[-0.02365071  0.03388377 -0.00806472 -0.03470129]\n"
          ]
        },
        {
          "output_type": "stream",
          "name": "stderr",
          "text": [
            "  4%|▎         | 366/10000 [00:24<18:48,  8.54it/s, episode_reward=500, running_reward=291]"
          ]
        },
        {
          "output_type": "stream",
          "name": "stdout",
          "text": [
            "[-0.00104925  0.03404775 -0.01922002 -0.03585427]\n",
            "[ 0.00313774 -0.04648662 -0.02291624 -0.00969288]\n"
          ]
        },
        {
          "output_type": "stream",
          "name": "stderr",
          "text": [
            "  4%|▎         | 368/10000 [00:25<19:08,  8.39it/s, episode_reward=500, running_reward=301]"
          ]
        },
        {
          "output_type": "stream",
          "name": "stdout",
          "text": [
            "[-0.04365578 -0.0081632  -0.03227449 -0.02460768]\n",
            "[-0.01715329 -0.04270895  0.01690531 -0.01694632]\n"
          ]
        },
        {
          "output_type": "stream",
          "name": "stderr",
          "text": [
            "  4%|▎         | 370/10000 [00:25<19:28,  8.24it/s, episode_reward=500, running_reward=310]"
          ]
        },
        {
          "output_type": "stream",
          "name": "stdout",
          "text": [
            "[ 0.04519209 -0.0084234   0.0054903   0.04710507]\n",
            "[-0.04631046  0.02076765 -0.03445055 -0.04452878]\n"
          ]
        },
        {
          "output_type": "stream",
          "name": "stderr",
          "text": [
            "  4%|▎         | 372/10000 [00:25<19:27,  8.25it/s, episode_reward=500, running_reward=319]"
          ]
        },
        {
          "output_type": "stream",
          "name": "stdout",
          "text": [
            "[ 0.04166173  0.04923409 -0.02829055 -0.00659852]\n",
            "[0.0383601  0.01952201 0.03826367 0.02691738]\n"
          ]
        },
        {
          "output_type": "stream",
          "name": "stderr",
          "text": [
            "  4%|▎         | 374/10000 [00:25<19:23,  8.27it/s, episode_reward=500, running_reward=329]"
          ]
        },
        {
          "output_type": "stream",
          "name": "stdout",
          "text": [
            "[ 0.04274238 -0.04503304 -0.00751395 -0.01931178]\n",
            "[ 0.02490669  0.04216028 -0.02683087  0.02394625]\n"
          ]
        },
        {
          "output_type": "stream",
          "name": "stderr",
          "text": [
            "  4%|▍         | 376/10000 [00:26<19:43,  8.14it/s, episode_reward=500, running_reward=339]"
          ]
        },
        {
          "output_type": "stream",
          "name": "stdout",
          "text": [
            "[-0.04903887  0.02607461 -0.04003579 -0.02245273]\n",
            "[ 0.00777263 -0.04583025  0.001874    0.00786807]\n"
          ]
        },
        {
          "output_type": "stream",
          "name": "stderr",
          "text": [
            "  4%|▍         | 378/10000 [00:26<19:40,  8.15it/s, episode_reward=500, running_reward=348]"
          ]
        },
        {
          "output_type": "stream",
          "name": "stdout",
          "text": [
            "[ 0.00131683 -0.02638399 -0.02233198 -0.01705567]\n",
            "[-0.01601669 -0.01450834 -0.01754385  0.04250035]\n"
          ]
        },
        {
          "output_type": "stream",
          "name": "stderr",
          "text": [
            "  4%|▍         | 380/10000 [00:26<19:20,  8.29it/s, episode_reward=500, running_reward=356]"
          ]
        },
        {
          "output_type": "stream",
          "name": "stdout",
          "text": [
            "[-0.01271058  0.00145518  0.00859042 -0.0354558 ]\n",
            "[ 0.02317072 -0.04052134  0.03303605 -0.01515597]\n"
          ]
        },
        {
          "output_type": "stream",
          "name": "stderr",
          "text": [
            "  4%|▍         | 382/10000 [00:26<19:22,  8.27it/s, episode_reward=500, running_reward=365]"
          ]
        },
        {
          "output_type": "stream",
          "name": "stdout",
          "text": [
            "[ 0.03510046 -0.04681518 -0.01485069  0.00875027]\n",
            "[-0.04738225 -0.04430531 -0.00713059 -0.01997779]\n"
          ]
        },
        {
          "output_type": "stream",
          "name": "stderr",
          "text": [
            "  4%|▍         | 384/10000 [00:27<18:57,  8.45it/s, episode_reward=500, running_reward=373]"
          ]
        },
        {
          "output_type": "stream",
          "name": "stdout",
          "text": [
            "[-0.02095106 -0.04885918 -0.02815456 -0.01346137]\n",
            "[0.04488553 0.0287883  0.00113806 0.00597934]\n"
          ]
        },
        {
          "output_type": "stream",
          "name": "stderr",
          "text": [
            "  4%|▍         | 386/10000 [00:27<19:17,  8.30it/s, episode_reward=500, running_reward=381]"
          ]
        },
        {
          "output_type": "stream",
          "name": "stdout",
          "text": [
            "[-0.00266895 -0.04859371  0.00999159  0.04175362]\n",
            "[ 0.02499555  0.04554387 -0.02306584 -0.00336432]\n"
          ]
        },
        {
          "output_type": "stream",
          "name": "stderr",
          "text": [
            "  4%|▍         | 388/10000 [00:27<19:34,  8.18it/s, episode_reward=500, running_reward=389]"
          ]
        },
        {
          "output_type": "stream",
          "name": "stdout",
          "text": [
            "[-0.00964293  0.00525782 -0.00776426 -0.01852416]\n",
            "[-0.02471569 -0.03690812 -0.04328275 -0.02477129]\n"
          ]
        },
        {
          "output_type": "stream",
          "name": "stderr",
          "text": [
            "  4%|▍         | 390/10000 [00:27<19:19,  8.29it/s, episode_reward=500, running_reward=397]"
          ]
        },
        {
          "output_type": "stream",
          "name": "stdout",
          "text": [
            "[-3.8207021e-02  3.5929874e-02  4.5984816e-02 -3.3060212e-05]\n",
            "[-0.00022516 -0.01425196  0.02250723  0.01915285]\n"
          ]
        },
        {
          "output_type": "stream",
          "name": "stderr",
          "text": [
            "  4%|▍         | 392/10000 [00:28<19:12,  8.34it/s, episode_reward=500, running_reward=405]"
          ]
        },
        {
          "output_type": "stream",
          "name": "stdout",
          "text": [
            "[-0.01958567 -0.01672343  0.04127057  0.02110179]\n",
            "[-0.00531344 -0.01138768  0.00573582  0.01648185]\n"
          ]
        },
        {
          "output_type": "stream",
          "name": "stderr",
          "text": [
            "  4%|▍         | 394/10000 [00:28<18:43,  8.55it/s, episode_reward=500, running_reward=413]"
          ]
        },
        {
          "output_type": "stream",
          "name": "stdout",
          "text": [
            "[-0.04374782 -0.0326434   0.00618281 -0.00907483]\n",
            "[ 0.031429   -0.0204128   0.02136644 -0.03518502]\n"
          ]
        },
        {
          "output_type": "stream",
          "name": "stderr",
          "text": [
            "  4%|▍         | 396/10000 [00:28<19:20,  8.28it/s, episode_reward=500, running_reward=420]"
          ]
        },
        {
          "output_type": "stream",
          "name": "stdout",
          "text": [
            "[-0.01979878  0.02894212  0.00383478 -0.04017511]\n",
            "[ 0.02342692 -0.03834887 -0.00234305  0.04694685]\n"
          ]
        },
        {
          "output_type": "stream",
          "name": "stderr",
          "text": [
            "  4%|▍         | 398/10000 [00:28<19:06,  8.38it/s, episode_reward=500, running_reward=427]"
          ]
        },
        {
          "output_type": "stream",
          "name": "stdout",
          "text": [
            "[-0.02680908 -0.0397175  -0.00185442  0.00380299]\n",
            "[-0.0022057   0.01475286  0.00267056 -0.03312891]\n"
          ]
        },
        {
          "output_type": "stream",
          "name": "stderr",
          "text": [
            "  4%|▍         | 400/10000 [00:29<19:25,  8.24it/s, episode_reward=500, running_reward=433]"
          ]
        },
        {
          "output_type": "stream",
          "name": "stdout",
          "text": [
            "[ 0.02759243  0.02222917  0.04323138 -0.01060757]\n",
            "[0.04133037 0.03266324 0.0327422  0.02476112]\n"
          ]
        },
        {
          "output_type": "stream",
          "name": "stderr",
          "text": [
            "  4%|▍         | 402/10000 [00:29<18:50,  8.49it/s, episode_reward=500, running_reward=440]"
          ]
        },
        {
          "output_type": "stream",
          "name": "stdout",
          "text": [
            "[ 0.0276271   0.04356394  0.04522403 -0.00767109]\n",
            "[ 0.03196372 -0.03316636 -0.00128422 -0.02803454]\n"
          ]
        },
        {
          "output_type": "stream",
          "name": "stderr",
          "text": [
            "  4%|▍         | 404/10000 [00:29<18:54,  8.46it/s, episode_reward=500, running_reward=446]"
          ]
        },
        {
          "output_type": "stream",
          "name": "stdout",
          "text": [
            "[ 0.01108756 -0.02282757 -0.04755512  0.0350717 ]\n",
            "[-0.00698148 -0.04972163 -0.01635547  0.0382426 ]\n"
          ]
        },
        {
          "output_type": "stream",
          "name": "stderr",
          "text": [
            "  4%|▍         | 406/10000 [00:29<19:00,  8.41it/s, episode_reward=500, running_reward=452]"
          ]
        },
        {
          "output_type": "stream",
          "name": "stdout",
          "text": [
            "[ 0.00547064  0.04145214 -0.00798185  0.0405491 ]\n",
            "[ 0.03994929 -0.04443115  0.01604884 -0.03689957]\n"
          ]
        },
        {
          "output_type": "stream",
          "name": "stderr",
          "text": [
            "  4%|▍         | 408/10000 [00:29<18:58,  8.42it/s, episode_reward=500, running_reward=457]"
          ]
        },
        {
          "output_type": "stream",
          "name": "stdout",
          "text": [
            "[ 0.01620822  0.04520032  0.03201499 -0.04183637]\n",
            "[-0.04445041 -0.04005713  0.04109701  0.04729501]\n"
          ]
        },
        {
          "output_type": "stream",
          "name": "stderr",
          "text": [
            "  4%|▍         | 410/10000 [00:30<19:16,  8.30it/s, episode_reward=500, running_reward=461]"
          ]
        },
        {
          "output_type": "stream",
          "name": "stdout",
          "text": [
            "[-3.3185494e-05 -1.5156096e-02 -2.1495413e-02  3.9169058e-02]\n",
            "[ 0.01808045  0.04581442  0.04113331 -0.04118572]\n"
          ]
        },
        {
          "output_type": "stream",
          "name": "stderr",
          "text": [
            "  4%|▍         | 412/10000 [00:30<19:15,  8.30it/s, episode_reward=500, running_reward=466]"
          ]
        },
        {
          "output_type": "stream",
          "name": "stdout",
          "text": [
            "[ 0.01554954  0.01173319  0.03049084 -0.04578801]\n",
            "[ 0.03745669 -0.00757882  0.03792765 -0.04145649]\n"
          ]
        },
        {
          "output_type": "stream",
          "name": "stderr",
          "text": [
            "  4%|▍         | 414/10000 [00:30<18:49,  8.48it/s, episode_reward=500, running_reward=471]"
          ]
        },
        {
          "output_type": "stream",
          "name": "stdout",
          "text": [
            "[-0.04372766  0.03997674  0.04018002 -0.0236488 ]\n",
            "[-0.01298738 -0.00347184 -0.00956541  0.02469746]\n"
          ]
        },
        {
          "output_type": "stream",
          "name": "stderr",
          "text": [
            "  4%|▍         | 415/10000 [00:30<11:54, 13.42it/s, episode_reward=500, running_reward=476]"
          ]
        },
        {
          "output_type": "stream",
          "name": "stdout",
          "text": [
            "[ 0.04618536 -0.02884662  0.01965354  0.02142611]\n",
            "\n",
            "Solved at episode 415: average reward: 475.53!\n",
            "CPU times: user 33.3 s, sys: 1.78 s, total: 35.1 s\n",
            "Wall time: 30.9 s\n"
          ]
        },
        {
          "output_type": "stream",
          "name": "stderr",
          "text": [
            "\n"
          ]
        }
      ],
      "source": [
        "%%time\n",
        "\n",
        "min_episodes_criterion = 100\n",
        "max_episodes = 10000\n",
        "max_steps_per_episode = 500\n",
        "\n",
        "# `CartPole-v1` is considered solved if average reward is >= 475 over 500\n",
        "# consecutive trials\n",
        "reward_threshold = 475\n",
        "running_reward = 0\n",
        "\n",
        "# The discount factor for future rewards\n",
        "gamma = 0.99\n",
        "\n",
        "# Keep the last episodes reward\n",
        "episodes_reward: collections.deque = collections.deque(maxlen=min_episodes_criterion)\n",
        "print(\"What is happening\",tqdm.trange(max_episodes))\n",
        "t = tqdm.trange(max_episodes)\n",
        "for i in t:\n",
        "    print(env.reset())\n",
        "    initial_state = env.reset()\n",
        "    initial_state = tf.constant(initial_state, dtype=tf.float32)\n",
        "    episode_reward = int(train_step(\n",
        "        initial_state, model, optimizer, gamma, max_steps_per_episode))\n",
        "\n",
        "    episodes_reward.append(episode_reward)\n",
        "    running_reward = statistics.mean(episodes_reward)\n",
        "\n",
        "\n",
        "    t.set_postfix(\n",
        "        episode_reward=episode_reward, running_reward=running_reward)\n",
        "\n",
        "    # Show the average episode reward every 10 episodes\n",
        "    if i % 10 == 0:\n",
        "      pass # print(f'Episode {i}: average reward: {avg_reward}')\n",
        "\n",
        "    if running_reward > reward_threshold and i >= min_episodes_criterion:\n",
        "        break\n",
        "\n",
        "print(f'\\nSolved at episode {i}: average reward: {running_reward:.2f}!')"
      ]
    },
    {
      "cell_type": "markdown",
      "metadata": {
        "id": "ru8BEwS1EmAv"
      },
      "source": [
        "## Visualization\n",
        "\n",
        "After training, it would be good to visualize how the model performs in the environment. You can run the cells below to generate a GIF animation of one episode run of the model. Note that additional packages need to be installed for Gym to render the environment's images correctly in Colab."
      ]
    },
    {
      "cell_type": "code",
      "execution_count": null,
      "metadata": {
        "id": "qbIMMkfmRHyC"
      },
      "outputs": [],
      "source": [
        "# Render an episode and save as a GIF file\n",
        "\n",
        "from IPython import display as ipythondisplay\n",
        "from PIL import Image\n",
        "\n",
        "render_env = gym.make(\"CartPole-v1\", render_mode='rgb_array')\n",
        "\n",
        "def render_episode(env: gym.Env, model: tf.keras.Model, max_steps: int):\n",
        "  state= env.reset()\n",
        "  state = tf.constant(state, dtype=tf.float32)\n",
        "  screen = env.render()\n",
        "  images = [Image.fromarray(np.squeeze(screen))]\n",
        "\n",
        "  for i in range(1, max_steps + 1):\n",
        "    state = tf.expand_dims(state, 0)\n",
        "    action_probs, _ = model(state)\n",
        "    action = np.argmax(np.squeeze(action_probs))\n",
        "\n",
        "    state, reward, done, info = env.step(action)\n",
        "    state = tf.constant(state, dtype=tf.float32)\n",
        "    screen = env.render()\n",
        "    images.append(Image.fromarray(np.squeeze(screen)))\n",
        "\n",
        "    # Render screen every 10 steps\n",
        "    # if i % 10 == 0:\n",
        "    #   screen = env.render()\n",
        "    #   images.append(Image.fromarray(np.squeeze(screen)))\n",
        "\n",
        "    if done:\n",
        "      break\n",
        "\n",
        "  return images\n",
        "\n",
        "\n",
        "# Save GIF image\n",
        "images = render_episode(render_env, model, max_steps_per_episode)\n",
        "image_file = 'cartpole-v1.gif'\n",
        "# loop=0: loop forever, duration=1: play each frame for 1ms\n",
        "images[0].save(\n",
        "    image_file, save_all=True, append_images=images[1:], loop=0, duration=1)"
      ]
    },
    {
      "cell_type": "code",
      "execution_count": null,
      "metadata": {
        "id": "TLd720SejKmf",
        "colab": {
          "base_uri": "https://localhost:8080/",
          "height": 421
        },
        "outputId": "4feba53b-81ce-4e7e-cf05-a4ef829e2aaf"
      },
      "outputs": [
        {
          "output_type": "execute_result",
          "data": {
            "text/plain": [
              "<IPython.core.display.HTML object>"
            ],
            "text/html": [
              "<img src=\"data:image/gif;base64,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\"/>"
            ]
          },
          "metadata": {},
          "execution_count": 41
        }
      ],
      "source": [
        "import tensorflow_docs.vis.embed as embed\n",
        "embed.embed_file(image_file)"
      ]
    },
    {
      "cell_type": "markdown",
      "metadata": {
        "id": "lnq9Hzo1Po6X"
      },
      "source": [
        "## Next steps\n",
        "\n",
        "This tutorial demonstrated how to implement the Actor-Critic method using Tensorflow.\n",
        "\n",
        "As a next step, you could try training a model on a different environment in Gym.\n",
        "\n",
        "For additional information regarding Actor-Critic methods and the Cartpole-v0 problem, you may refer to the following resources:\n",
        "\n",
        "- [The Actor-Critic method](https://hal.inria.fr/hal-00840470/document)\n",
        "- [The Actor-Critic lecture (CAL)](https://www.youtube.com/watch?v=EKqxumCuAAY&list=PLkFD6_40KJIwhWJpGazJ9VSj9CFMkb79A&index=7&t=0s)\n",
        "- [Cart Pole learning control problem \\[Barto, et al. 1983\\]](http://www.derongliu.org/adp/adp-cdrom/Barto1983.pdf)\n",
        "\n",
        "For more reinforcement learning examples in TensorFlow, you can check the following resources:\n",
        "- [Reinforcement learning code examples (keras.io)](https://keras.io/examples/rl/)\n",
        "- [TF-Agents reinforcement learning library](https://www.tensorflow.org/agents)\n"
      ]
    }
  ],
  "metadata": {
    "colab": {
      "collapsed_sections": [
        "_jQ1tEQCxwRx"
      ],
      "provenance": [],
      "toc_visible": true
    },
    "kernelspec": {
      "display_name": "Python 3",
      "name": "python3"
    }
  },
  "nbformat": 4,
  "nbformat_minor": 0
}